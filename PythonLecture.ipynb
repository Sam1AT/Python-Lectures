{
 "cells": [
  {
   "attachments": {},
   "cell_type": "markdown",
   "metadata": {},
   "source": [
    "<span style=\"font-size: 50px;\">Python Lectures</span> \n",
    "<br> <span style=\"font-size: 30px;\">Authored By <b> Shadmehr Salehi </b></span>\n",
    "<br> <span style=\"font-size: 22px;margin-left : 10px\">For Advanced Programming Course</span>\n",
    "<br> <span style=\"font-size: 22px;margin-left : 10px\">May Be Used Under `CC-BY-SA` License</span>\n",
    "\n",
    "\n",
    "\n",
    "<span style=\"font-size: 25px;\">It Almost Contains All Subjects That A CS Student Should Know About Python. <br> If You Noticed An Unmentioned Important Subject , Please Open An Issue On Github. <br> Also If You Found A Problem Also Open An Issue On Github =)</span>\n",
    "\n",
    "- <span style=\"font-size: 25px;\"> If You Found This Lecture Helpful , Please Star This Repo , It Would Be Appreciated ^_^ </span><br>\n",
    " \n",
    "\n",
    "<span style=\"font-size: 22px;\"><b>Some Useful Links :</b> </span> <br>\n",
    "[GitHub](https://github.com/shadmehr-salehi) <br>\n",
    "[Lecture Github](https://github.com/shadmehr-salehi/Python-Lectures) <br>\n",
    "[LinkedIn](https://www.linkedin.com/in/shadmehr-salehi)"
   ]
  },
  {
   "attachments": {},
   "cell_type": "markdown",
   "metadata": {},
   "source": [
    "---"
   ]
  },
  {
   "attachments": {},
   "cell_type": "markdown",
   "metadata": {},
   "source": [
    "# Chapter 1: Python Begins"
   ]
  },
  {
   "attachments": {},
   "cell_type": "markdown",
   "metadata": {},
   "source": [
    "## Data Types"
   ]
  },
  {
   "attachments": {},
   "cell_type": "markdown",
   "metadata": {},
   "source": [
    "### Numeric Types"
   ]
  },
  {
   "attachments": {},
   "cell_type": "markdown",
   "metadata": {},
   "source": [
    "Numeric types include integers, floats, and complex numbers.\n",
    "<br>\n",
    "Integers represent whole numbers, floats represent decimal numbers, and complex numbers are expressed in the form $a + bj$, where $a$ and $b$ are real numbers and $j$ is the imaginary unit.\n",
    "<br>\n",
    "Note that `bool` is a subclass of `int` and all booleans are considered as subtypes of integers."
   ]
  },
  {
   "cell_type": "code",
   "execution_count": 6,
   "metadata": {},
   "outputs": [
    {
     "name": "stdout",
     "output_type": "stream",
     "text": [
      "1\n",
      "1.9\n",
      "(2+3j)\n",
      "True\n",
      "2\n"
     ]
    }
   ],
   "source": [
    "int, float, complex, bool\n",
    "\n",
    "# Examples\n",
    "a = 1 \n",
    "b = 1.9\n",
    "c = 2+3j\n",
    "d = True # or 1\n",
    "\n",
    "# The code below is correct!\n",
    "e = True + True + False\n",
    "\n",
    "print(a, b, c, d, e , sep = \"\\n\")"
   ]
  },
  {
   "attachments": {},
   "cell_type": "markdown",
   "metadata": {},
   "source": [
    "### Constants"
   ]
  },
  {
   "attachments": {},
   "cell_type": "markdown",
   "metadata": {},
   "source": [
    "Note that there is no strict way to define constants in Python, however you can use UPPERCASE variable names to alert developers."
   ]
  },
  {
   "cell_type": "code",
   "execution_count": 14,
   "metadata": {},
   "outputs": [
    {
     "name": "stdout",
     "output_type": "stream",
     "text": [
      "2\n"
     ]
    }
   ],
   "source": [
    "CONST_EG = 1\n",
    "CONST_EG = 2\n",
    "\n",
    "print(CONST_EG)"
   ]
  },
  {
   "attachments": {},
   "cell_type": "markdown",
   "metadata": {},
   "source": [
    "### Sequence Types"
   ]
  },
  {
   "attachments": {},
   "cell_type": "markdown",
   "metadata": {},
   "source": [
    "Sequence types include lists, tuples, and range objects.\n",
    "<br>\n",
    "Lists are *mutable* sequences of elements, tuples are *immutable* sequences of elements, and range objects represent an *immutable* sequence of numbers."
   ]
  },
  {
   "cell_type": "code",
   "execution_count": 13,
   "metadata": {},
   "outputs": [
    {
     "name": "stdout",
     "output_type": "stream",
     "text": [
      "[1, 3, 5, 7, 9]\n"
     ]
    }
   ],
   "source": [
    "list, tuple, range \n",
    "\n",
    "lst = [1, 2, \"hello\", 1+2j, True]\n",
    "tpl = (1, 2, 3, 3, 3, \"hello\")\n",
    "tpl = 1, 2, 3, 3, 3, \"hello\" # the same tuple\n",
    "tpl = 1, # a single-element tuple\n",
    "\n",
    "# Since tuples are immutable, the line below will raise an error.\n",
    "# tpl[1] = 10\n",
    "\n",
    "print(list(range(1, 10, 2)))"
   ]
  },
  {
   "attachments": {},
   "cell_type": "markdown",
   "metadata": {},
   "source": [
    "### Set Types"
   ]
  },
  {
   "attachments": {},
   "cell_type": "markdown",
   "metadata": {},
   "source": [
    "Set types include sets and frozensets.\n",
    "<br>\n",
    "Sets represent *unordered* collections that are *mutable* and you can add, remove, or modify elements after they are created.\n",
    "<br>\n",
    "Frozensets are *immutable* and you cannot modify them after creation."
   ]
  },
  {
   "cell_type": "code",
   "execution_count": 12,
   "metadata": {},
   "outputs": [
    {
     "name": "stdout",
     "output_type": "stream",
     "text": [
      "{0, 1, 3, 100, 4, 5, 200, 'hello', 3450}\n",
      "[1, 2, 3, 'hello']\n"
     ]
    }
   ],
   "source": [
    "set, frozenset\n",
    "\n",
    "s = {0, 1, 100, 200, 3, 4, 5, 5, \"hello\", \"hello\"}\n",
    "s.add(3450)\n",
    "print(s)\n",
    "\n",
    "fs = frozenset([1, 2, 3, 3, 3, \"hello\", \"hello\"])\n",
    "# fs.add() <- Raises Error\n",
    "new_list = list(fs)\n",
    "print(new_list)"
   ]
  },
  {
   "attachments": {},
   "cell_type": "markdown",
   "metadata": {},
   "source": [
    "### Mapping Type"
   ]
  },
  {
   "attachments": {},
   "cell_type": "markdown",
   "metadata": {},
   "source": [
    "Mapping type includes dictionaries.\n",
    "<br>\n",
    "Dictionaries are collections of key-value pairs, where each key is *unique*."
   ]
  },
  {
   "cell_type": "code",
   "execution_count": 15,
   "metadata": {},
   "outputs": [
    {
     "name": "stdout",
     "output_type": "stream",
     "text": [
      "Shadmehr\n",
      "20\n",
      "Computer Science\n",
      "{'name': 'Shadmehr', 'age': 26, 'major': 'Computer Science', 'year': 2}\n"
     ]
    }
   ],
   "source": [
    "student = {\"name\": \"Shadmehr\", \"age\": 20, \"major\": \"Computer Science\"}\n",
    "print(student[\"name\"])\n",
    "print(student[\"age\"])\n",
    "print(student[\"major\"])\n",
    "student[\"age\"] = 26\n",
    "student[\"year\"] = 2\n",
    "print(student)"
   ]
  },
  {
   "attachments": {},
   "cell_type": "markdown",
   "metadata": {},
   "source": [
    "### Text Type"
   ]
  },
  {
   "attachments": {},
   "cell_type": "markdown",
   "metadata": {},
   "source": [
    "Text type includes strings that represent a sequence of characters."
   ]
  },
  {
   "cell_type": "code",
   "execution_count": 17,
   "metadata": {},
   "outputs": [
    {
     "name": "stdout",
     "output_type": "stream",
     "text": [
      "Hello, world!\n",
      "13\n",
      "Hello\n",
      "Hello, world! How are you today?\n",
      "Hello, Python!\n",
      "['Hello,', 'world!']\n",
      "Hello,----world!\n",
      "Hello,----world!\n",
      "HELLO, WORLD!\n",
      "hello, world!\n",
      "The string contains 'world'.\n"
     ]
    }
   ],
   "source": [
    "# Define a string\n",
    "s = \"Hello, world!\"\n",
    "\n",
    "# Print the string\n",
    "print(s)\n",
    "\n",
    "# Get the length of the string\n",
    "print(len(s))\n",
    "\n",
    "# Get a substring\n",
    "print(s[0:5])\n",
    "\n",
    "# Concatenate strings\n",
    "s2 = \" How are you today?\"\n",
    "s3 = s + s2\n",
    "print(s3)\n",
    "\n",
    "# Replace a substring\n",
    "s4 = s.replace(\"world\", \"Python\")\n",
    "print(s4)\n",
    "\n",
    "# Split a string into a list of words\n",
    "words = s.split()\n",
    "print(words) \n",
    "\n",
    "# Join a list of words into a string\n",
    "s5 = \"----\".join(words)\n",
    "print(s5)\n",
    "\n",
    "# Remove all leading and trailing whitespaces from the string\n",
    "s6 = \"  \" + s5 + \"  \"\n",
    "print(s6.strip())\n",
    "\n",
    "# Convert the string to uppercase\n",
    "s7 = s.upper()\n",
    "print(s7)   \n",
    "\n",
    "# Convert the string to lowercase\n",
    "s8 = s.lower()\n",
    "print(s8)\n",
    "\n",
    "# Check if a string contains a substring\n",
    "if \"world\" in s:\n",
    "    print(\"The string contains 'world'.\")\n",
    "else:\n",
    "    print(\"The string does not contain 'world'.\")\n",
    "\n",
    "# Output: The string contains 'world'."
   ]
  },
  {
   "attachments": {},
   "cell_type": "markdown",
   "metadata": {},
   "source": [
    "### None Type"
   ]
  },
  {
   "attachments": {},
   "cell_type": "markdown",
   "metadata": {},
   "source": [
    "None type represents the absence of a value."
   ]
  },
  {
   "cell_type": "code",
   "execution_count": 18,
   "metadata": {},
   "outputs": [
    {
     "name": "stdout",
     "output_type": "stream",
     "text": [
      "Hello, world!\n",
      "None\n"
     ]
    }
   ],
   "source": [
    "def print_hello():\n",
    "    print(\"Hello, world!\")\n",
    "\n",
    "result = print_hello()\n",
    "print(result)   "
   ]
  },
  {
   "attachments": {},
   "cell_type": "markdown",
   "metadata": {},
   "source": [
    "### Type Annotation"
   ]
  },
  {
   "attachments": {},
   "cell_type": "markdown",
   "metadata": {},
   "source": [
    "Type annotations are a way of indicating the expected data type of a variable, function parameter, or function return value.\n",
    "<br>\n",
    "Type annotations are *not enforced* at runtime, but they can be useful for documentation purposes and for catching type-related errors early during development."
   ]
  },
  {
   "cell_type": "code",
   "execution_count": 9,
   "metadata": {},
   "outputs": [],
   "source": [
    "my_variable: str = \"Hello, World!\"\n",
    "\n",
    "num: int = 100\n",
    "\n",
    "def greet(name: str) -> str:\n",
    "    return f\"Hello, {name}!\""
   ]
  },
  {
   "attachments": {},
   "cell_type": "markdown",
   "metadata": {},
   "source": [
    "## Some Tricks And Methods"
   ]
  },
  {
   "attachments": {},
   "cell_type": "markdown",
   "metadata": {},
   "source": [
    "#### yield and return "
   ]
  },
  {
   "attachments": {},
   "cell_type": "markdown",
   "metadata": {},
   "source": [
    "yield and return are both used to return values from functions in Python, but they have different behaviors and purposes.\n",
    "\n",
    "The return statement is used to return a value from a function and terminate the function's execution. Once a return statement is encountered, the function stops executing and control is returned to the calling code. The returned value can be assigned to a variable or used in an expression.\n",
    "\n",
    "On the other hand, the yield statement is used to define a generator function, which generates a sequence of values that can be iterated over. When a yield statement is encountered in a generator function, the function's state is saved and the yielded value is returned to the calling code. The next time the generator's next() method is called, the function resumes execution from where it left off, with all of its variables and data intact.\n",
    "\n",
    "So, the main difference between yield and return is that return is used to return a single value and terminate the function's execution, while yield is used to generate a sequence of values and pause the function's execution. yield allows the function to be resumed from where it left off, while return does not."
   ]
  },
  {
   "cell_type": "code",
   "execution_count": 10,
   "metadata": {},
   "outputs": [
    {
     "name": "stdout",
     "output_type": "stream",
     "text": [
      "1\n",
      "2\n",
      "3\n",
      "4\n",
      "5\n"
     ]
    }
   ],
   "source": [
    "def count_up_to(n):\n",
    "    for i in range(1, n+1):\n",
    "        yield i\n",
    "        \n",
    "for num in count_up_to(5):\n",
    "    print(num)"
   ]
  },
  {
   "cell_type": "code",
   "execution_count": 11,
   "metadata": {},
   "outputs": [
    {
     "name": "stdout",
     "output_type": "stream",
     "text": [
      "5\n",
      "4\n",
      "3\n",
      "2\n",
      "1\n"
     ]
    }
   ],
   "source": [
    "def countdown(n):\n",
    "    while n > 0:\n",
    "        yield n\n",
    "        n -= 1\n",
    "\n",
    "for i in countdown(5):\n",
    "    print(i)"
   ]
  },
  {
   "cell_type": "code",
   "execution_count": 12,
   "metadata": {
    "tags": []
   },
   "outputs": [
    {
     "name": "stdout",
     "output_type": "stream",
     "text": [
      "[1, 3, 5, 7, 9, 11, 13, 15, 17, 19]\n"
     ]
    }
   ],
   "source": [
    "def filter_odd(numbers):\n",
    "\n",
    "   for number in range(numbers):\n",
    "\n",
    "       if(number%2!=0):\n",
    "\n",
    "           yield number \n",
    "\n",
    "odd_numbers = filter_odd(20)\n",
    "\n",
    "print(list(odd_numbers))\n"
   ]
  },
  {
   "cell_type": "code",
   "execution_count": 13,
   "metadata": {},
   "outputs": [
    {
     "name": "stdout",
     "output_type": "stream",
     "text": [
      "0\n",
      "1\n",
      "1\n",
      "2\n",
      "3\n",
      "5\n",
      "8\n",
      "13\n",
      "21\n"
     ]
    }
   ],
   "source": [
    "def fibonacci():\n",
    "    a, b = 0, 1\n",
    "    while True:\n",
    "        yield a\n",
    "        a, b = b, a + b\n",
    "        \n",
    "fib = fibonacci()\n",
    "for i in range(1,10):\n",
    "    print(next(fib))"
   ]
  },
  {
   "cell_type": "code",
   "execution_count": 14,
   "metadata": {},
   "outputs": [
    {
     "name": "stdout",
     "output_type": "stream",
     "text": [
      "2\n",
      "3\n",
      "5\n",
      "7\n",
      "11\n",
      "13\n",
      "17\n",
      "19\n",
      "23\n",
      "29\n"
     ]
    }
   ],
   "source": [
    "def primes():\n",
    "    yield 2\n",
    "    primes = [2]\n",
    "    n = 3\n",
    "    while True:\n",
    "        for p in primes:\n",
    "            if n % p == 0:\n",
    "                break\n",
    "        else:\n",
    "            yield n\n",
    "            primes.append(n)\n",
    "        n += 2\n",
    "        \n",
    "gen = primes()\n",
    "for i in range(10):\n",
    "    print(next(gen))"
   ]
  },
  {
   "attachments": {},
   "cell_type": "markdown",
   "metadata": {},
   "source": [
    "#### list Slicing"
   ]
  },
  {
   "cell_type": "code",
   "execution_count": 15,
   "metadata": {},
   "outputs": [
    {
     "name": "stdout",
     "output_type": "stream",
     "text": [
      "[3, 4, 5, 6, 7]\n",
      "[1, 2, 3]\n",
      "[8, 9, 10]\n",
      "[2, 4, 6, 8, 10]\n",
      "[10, 9, 8, 7, 6, 5, 4, 3, 2, 1]\n"
     ]
    }
   ],
   "source": [
    "my_list = [1, 2, 3, 4, 5, 6, 7, 8, 9, 10]\n",
    "sliced_list = my_list[2:7]\n",
    "print(sliced_list)\n",
    "\n",
    "first_three = my_list[:3]\n",
    "print(first_three)  \n",
    "\n",
    "# Get the last three elements of the list\n",
    "last_three = my_list[-3:]\n",
    "print(last_three)  \n",
    "\n",
    "# Get every other element of the list, starting from the second element\n",
    "every_other = my_list[1::2]\n",
    "print(every_other)  \n",
    "\n",
    "# Reverse the order of the list\n",
    "reversed_list = my_list[::-1]\n",
    "print(reversed_list)  "
   ]
  },
  {
   "cell_type": "code",
   "execution_count": 16,
   "metadata": {},
   "outputs": [
    {
     "name": "stdout",
     "output_type": "stream",
     "text": [
      "Sliced list:  [2, 4, 6]\n"
     ]
    }
   ],
   "source": [
    "numbers = [0, 1, 2, 3, 4, 5, 6, 7, 8, 9]\n",
    "\n",
    "s = slice(2, 7, 2)\n",
    "result = numbers[s]\n",
    "\n",
    "print(\"Sliced list: \", result)"
   ]
  },
  {
   "attachments": {},
   "cell_type": "markdown",
   "metadata": {},
   "source": [
    "####  list comprehension"
   ]
  },
  {
   "cell_type": "code",
   "execution_count": 17,
   "metadata": {},
   "outputs": [
    {
     "name": "stdout",
     "output_type": "stream",
     "text": [
      "[0, 1, 4, 9, 16, 25, 36, 49, 64, 81]\n",
      "[6, 8, 10]\n",
      "[3, 4, 5]\n",
      "[12, 14, 16, 15, 18, 21, 24, 20, 24, 28, 32]\n",
      "[]\n"
     ]
    }
   ],
   "source": [
    "squares_list = [x**2 for x in range(10)]\n",
    "print(squares_list)\n",
    "\n",
    "even_list = [x for x in range(12) if x % 2 == 0 and x > 4 and x <= 10]\n",
    "print(even_list)\n",
    "\n",
    "list1 = [1, 2, 3, 4, 5]\n",
    "list2 = [3, 4, 5, 6, 7]\n",
    "common_elements = [x for x in list1 if x in list2]\n",
    "print(common_elements)\n",
    "\n",
    "\n",
    "list3 = [1, 2, 3, 4]\n",
    "list4 = [5, 6, 7, 8]\n",
    "product_list = [x*y for x in list3 for y in list4 if x*y > 10]\n",
    "print(product_list)\n",
    "\n",
    "list5 = [int(i) for i in input().split()]\n",
    "print(list5)"
   ]
  },
  {
   "attachments": {},
   "cell_type": "markdown",
   "metadata": {},
   "source": [
    "#### Unpacking iterables and unpack argument list"
   ]
  },
  {
   "cell_type": "code",
   "execution_count": 18,
   "metadata": {},
   "outputs": [
    {
     "name": "stdout",
     "output_type": "stream",
     "text": [
      "Shadmehr is 25 years old\n",
      "Ali is 30 years old\n",
      "1 2 3\n"
     ]
    }
   ],
   "source": [
    "people = [('Shadmehr', 25), ('Ali', 30)]\n",
    "for name, age in people:\n",
    "    print(f'{name} is {age} years old')\n",
    "    \n",
    "    \n",
    "lst = [1, 2, 3]\n",
    "print(*lst)\n",
    "\n"
   ]
  },
  {
   "cell_type": "code",
   "execution_count": 19,
   "metadata": {},
   "outputs": [
    {
     "name": "stdout",
     "output_type": "stream",
     "text": [
      "Hello, Shadmehr! You are 20 years old.\n"
     ]
    }
   ],
   "source": [
    "def greet(name, age):\n",
    "    print(f\"Hello, {name}! You are {age} years old.\")\n",
    "    \n",
    "person = {\"name\": \"Shadmehr\", \"age\": 20}\n",
    "greet(**person)"
   ]
  },
  {
   "attachments": {},
   "cell_type": "markdown",
   "metadata": {},
   "source": [
    "#### Lambda Functions"
   ]
  },
  {
   "attachments": {},
   "cell_type": "markdown",
   "metadata": {},
   "source": [
    "also known as anonymous functions, are functions without a name. <br> They are typically used when you need a small function that will only be used once and it doesn't make sense to define a named function."
   ]
  },
  {
   "cell_type": "code",
   "execution_count": 20,
   "metadata": {},
   "outputs": [
    {
     "name": "stdout",
     "output_type": "stream",
     "text": [
      "25\n"
     ]
    }
   ],
   "source": [
    "square = lambda x: x**2\n",
    "\n",
    "# Calling the lambda function\n",
    "result = square(5)\n",
    "print(result)"
   ]
  },
  {
   "cell_type": "code",
   "execution_count": 21,
   "metadata": {},
   "outputs": [
    {
     "name": "stdout",
     "output_type": "stream",
     "text": [
      "{'name': 'Bob', 'age': 30}\n",
      "{'name': 'Alice', 'age': 25}\n",
      "{'name': 'Charlie', 'age': 20}\n"
     ]
    }
   ],
   "source": [
    "people = [{'name': 'Alice', 'age': 25}, {'name': 'Bob', 'age': 30}, {'name': 'Charlie', 'age': 20}]\n",
    "\n",
    "# Sorting the list of dictionaries by age using a lambda function\n",
    "sorted_people = sorted(people , key= lambda x : x['age'] , reverse=True)\n",
    "\n",
    "# Printing the sorted list of dictionaries\n",
    "for person in sorted_people:\n",
    "    print(person)\n"
   ]
  },
  {
   "attachments": {},
   "cell_type": "markdown",
   "metadata": {},
   "source": [
    "##### Nested Lambdas"
   ]
  },
  {
   "attachments": {},
   "cell_type": "markdown",
   "metadata": {},
   "source": [
    "Nested lambdas are lambda functions that are defined inside other lambda functions"
   ]
  },
  {
   "cell_type": "code",
   "execution_count": 22,
   "metadata": {},
   "outputs": [
    {
     "name": "stdout",
     "output_type": "stream",
     "text": [
      "20\n",
      "15\n",
      "1024\n"
     ]
    }
   ],
   "source": [
    "multiply = lambda x: (lambda y: x * y)\n",
    "multiply_by_2 = multiply(2)\n",
    "res1 = multiply_by_2(10)\n",
    "\n",
    "\n",
    "\n",
    "\n",
    "\n",
    "add = lambda x: (lambda y: x + y)\n",
    "add_5 = add(5)\n",
    "res2 = add_5(10)\n",
    "\n",
    "\n",
    "\n",
    "square = lambda x: (lambda y: x ** y)\n",
    "square_of_2 = square(2)\n",
    "res3 = square_of_2(10)\n",
    "\n",
    "\n",
    "print(res1,res2,res3,sep=\"\\n\")\n"
   ]
  },
  {
   "attachments": {},
   "cell_type": "markdown",
   "metadata": {},
   "source": [
    "#### next()"
   ]
  },
  {
   "attachments": {},
   "cell_type": "markdown",
   "metadata": {},
   "source": [
    "Return the next item from the iterator"
   ]
  },
  {
   "cell_type": "code",
   "execution_count": 23,
   "metadata": {},
   "outputs": [
    {
     "name": "stdout",
     "output_type": "stream",
     "text": [
      "1\n",
      "2\n",
      "3\n",
      "4\n",
      "5\n"
     ]
    }
   ],
   "source": [
    "my_list = [1, 2, 3, 4, 5]\n",
    "my_iterator = iter(my_list)\n",
    "\n",
    "# Using the next() function to get the next item in the iterator\n",
    "print(next(my_iterator)) # Output: 1\n",
    "print(next(my_iterator)) # Output: 2\n",
    "print(next(my_iterator)) # Output: 3\n",
    "print(next(my_iterator)) # Output: 4\n",
    "print(next(my_iterator)) # Output: 5\n",
    "\n"
   ]
  },
  {
   "attachments": {},
   "cell_type": "markdown",
   "metadata": {},
   "source": [
    "####  map() "
   ]
  },
  {
   "attachments": {},
   "cell_type": "markdown",
   "metadata": {},
   "source": [
    "The map() function can be used to apply a function to each element of a list."
   ]
  },
  {
   "cell_type": "code",
   "execution_count": 27,
   "metadata": {},
   "outputs": [
    {
     "name": "stdout",
     "output_type": "stream",
     "text": [
      "[12, 22, 33, 44]\n",
      "1 2\n"
     ]
    }
   ],
   "source": [
    "stl = [\"12\",\"22\" ,\"33\" ,\"44\"]\n",
    "NumList = list(map(int , stl))\n",
    "print(NumList)\n",
    "\n",
    "a,b = map(int, input().split()) # <- 1 , 2 for Eg\n",
    "print(a,b)"
   ]
  },
  {
   "attachments": {},
   "cell_type": "markdown",
   "metadata": {},
   "source": [
    "#### filter() "
   ]
  },
  {
   "attachments": {},
   "cell_type": "markdown",
   "metadata": {},
   "source": [
    "The filter() function can be used to filter elements from a list based on a condition."
   ]
  },
  {
   "cell_type": "code",
   "execution_count": 28,
   "metadata": {},
   "outputs": [
    {
     "name": "stdout",
     "output_type": "stream",
     "text": [
      "[2, 4, 6, 8, 10]\n",
      "[1, 3, 5, 7, 9]\n"
     ]
    }
   ],
   "source": [
    "numbers = [1, 2, 3, 4, 5, 6, 7, 8, 9, 10]\n",
    "\n",
    "# Define the filtering function\n",
    "def is_even(n):\n",
    "    return n % 2 == 0\n",
    "\n",
    "even_numbers = list(filter(is_even, numbers))\n",
    "\n",
    "filtered_list = list(filter(lambda x: x % 2 != 0, numbers))\n",
    "\n",
    "\n",
    "print(even_numbers)\n",
    "print(filtered_list)"
   ]
  },
  {
   "attachments": {},
   "cell_type": "markdown",
   "metadata": {},
   "source": [
    "#### any() and all()"
   ]
  },
  {
   "attachments": {},
   "cell_type": "markdown",
   "metadata": {},
   "source": [
    "The any() function returns True if any element of a list is True, while the all() function returns True if all elements are True.\n"
   ]
  },
  {
   "cell_type": "code",
   "execution_count": 29,
   "metadata": {},
   "outputs": [
    {
     "name": "stdout",
     "output_type": "stream",
     "text": [
      "At least one number is greater than 10.\n",
      "At least one number is not greater than 10.\n"
     ]
    }
   ],
   "source": [
    "numbers = [5, 10, 15, 20]\n",
    "\n",
    "if any(num > 10 for num in numbers):\n",
    "    print(\"At least one number is greater than 10.\")\n",
    "else:\n",
    "    print(\"No number is greater than 10.\")\n",
    "\n",
    "\n",
    "if all(num > 10 for num in numbers):\n",
    "    print(\"All numbers are greater than 0.\")\n",
    "else:\n",
    "    print(\"At least one number is not greater than 10.\")\n",
    "    "
   ]
  },
  {
   "cell_type": "code",
   "execution_count": 30,
   "metadata": {},
   "outputs": [
    {
     "name": "stdout",
     "output_type": "stream",
     "text": [
      "At least one engineer is older than 30.\n",
      "All people are between 18 and 65.\n"
     ]
    }
   ],
   "source": [
    "people = [\n",
    "    {\"name\": \"Alice\", \"age\": 25, \"occupation\": \"doctor\"},\n",
    "    {\"name\": \"Bob\", \"age\": 30, \"occupation\": \"engineer\"},\n",
    "    {\"name\": \"Charlie\", \"age\": 35, \"occupation\": \"engineer\"},\n",
    "    {\"name\": \"David\", \"age\": 40, \"occupation\": \"teacher\"}\n",
    "]\n",
    "\n",
    "# Check if at least one engineer is older than 30 using any()\n",
    "if any(person[\"occupation\"] == \"engineer\" and person[\"age\"] > 30 for person in people):\n",
    "    print(\"At least one engineer is older than 30.\")\n",
    "else:\n",
    "    print(\"No engineer is older than 30.\")\n",
    "\n",
    "# Check if all people are between 18 and 65 using all()\n",
    "if all(18 <= person[\"age\"] <= 65 for person in people):\n",
    "    print(\"All people are between 18 and 65.\")\n",
    "else:\n",
    "    print(\"At least one person is either younger than 18 or older than 65.\")"
   ]
  },
  {
   "attachments": {},
   "cell_type": "markdown",
   "metadata": {},
   "source": [
    "#### string formatting "
   ]
  },
  {
   "attachments": {},
   "cell_type": "markdown",
   "metadata": {},
   "source": [
    " allows you to create dynamic strings. "
   ]
  },
  {
   "cell_type": "code",
   "execution_count": 33,
   "metadata": {},
   "outputs": [
    {
     "name": "stdout",
     "output_type": "stream",
     "text": [
      "My name is Shadmehr, I am 20 years old, and I am 1.91 meters tall.\n",
      "My name is Shadmehr, I am 20 years old, and I am 1.91 meters tall.\n",
      "My name is Shadmehr, I am 20 years old, and I am 1.91 meters tall.\n"
     ]
    }
   ],
   "source": [
    "name = \"Shadmehr\"\n",
    "age = 20\n",
    "height = 1.91\n",
    "\n",
    "# Using f-strings for string formatting\n",
    "message = f\"My name is {name}, I am {age} years old, and I am {height:.2f} meters tall.\"\n",
    "print(message)\n",
    "\n",
    "\n",
    "# Using format() method for string formatting\n",
    "message = \"My name is {}, I am {} years old, and I am {:.2f} meters tall.\".format(name, age, height)\n",
    "print(message)\n",
    "\n",
    "# Using %-formatting for string formatting\n",
    "message = \"My name is %s, I am %d years old, and I am %.2f meters tall.\" % (name, age, height)\n",
    "print(message)"
   ]
  },
  {
   "cell_type": "code",
   "execution_count": 34,
   "metadata": {},
   "outputs": [
    {
     "name": "stdout",
     "output_type": "stream",
     "text": [
      "Alice is 20 years old and has an average grade of 90.00 in 3 courses.\n",
      "Alice has a grade of A in Math, B+ in History, and A- in English.\n"
     ]
    }
   ],
   "source": [
    "student = {\n",
    "    \"name\": \"Alice\",\n",
    "    \"age\": 20,\n",
    "    \"grades\": [85, 90, 95],\n",
    "    \"courses\": {\n",
    "        \"math\": \"A\",\n",
    "        \"history\": \"B+\",\n",
    "        \"english\": \"A-\"\n",
    "    }\n",
    "}\n",
    "\n",
    "# Using f-strings with nested expressions for string formatting\n",
    "message = f\"{student['name']} is {student['age']} years old and has an average grade of {sum(student['grades'])/len(student['grades']):.2f} in {len(student['grades'])} courses.\"\n",
    "print(message)\n",
    "\n",
    "# Using the format() method with named placeholders for string formatting\n",
    "message = \"{name} has a grade of {courses[math]} in Math, {courses[history]} in History, and {courses[english]} in English.\".format(**student)\n",
    "print(message)\n"
   ]
  },
  {
   "attachments": {},
   "cell_type": "markdown",
   "metadata": {},
   "source": [
    "#### zip()"
   ]
  },
  {
   "attachments": {},
   "cell_type": "markdown",
   "metadata": {},
   "source": [
    "note that You can use the * operator with zip() to \"unzip\" a list of tuples into separate lists "
   ]
  },
  {
   "cell_type": "code",
   "execution_count": 36,
   "metadata": {},
   "outputs": [
    {
     "name": "stdout",
     "output_type": "stream",
     "text": [
      "(1, 'a')\n",
      "(2, 'b')\n",
      "(3, 'c')\n",
      "(4, 'd')\n",
      "(5, 'e')\n",
      "\n",
      "{1: 'a', 2: 'b', 3: 'c', 4: 'd', 5: 'e'}\n"
     ]
    }
   ],
   "source": [
    "numbers = [1, 2, 3, 4, 5]\n",
    "letters = [\"a\", \"b\", \"c\", \"d\", \"e\"]\n",
    "zipped = zip(numbers, letters)\n",
    "for item in zipped:\n",
    "    print(item)\n",
    "\n",
    "print()\n",
    "\n",
    "zipped = dict(list(zip(numbers, letters)))\n",
    "print(zipped)\n"
   ]
  },
  {
   "cell_type": "code",
   "execution_count": 37,
   "metadata": {},
   "outputs": [
    {
     "name": "stdout",
     "output_type": "stream",
     "text": [
      "(1, 3, 5) (2, 4, 6)\n"
     ]
    }
   ],
   "source": [
    "x, y = zip(*[(1, 2), (3, 4), (5, 6)])\n",
    "\"\"\"\n",
    "(1, 2), (3, 4), (5, 6)\n",
    "\"\"\"\n",
    "print(x,y)"
   ]
  },
  {
   "attachments": {},
   "cell_type": "markdown",
   "metadata": {},
   "source": [
    "#### enumerate() "
   ]
  },
  {
   "attachments": {},
   "cell_type": "markdown",
   "metadata": {},
   "source": [
    "allows you to iterate over a list (or any iterable) and get both the index and the corresponding value of each item."
   ]
  },
  {
   "cell_type": "code",
   "execution_count": 39,
   "metadata": {},
   "outputs": [
    {
     "name": "stdout",
     "output_type": "stream",
     "text": [
      "[(0, 'apple'), (1, 'banana'), (2, 'orange'), (3, 'pear')]\n",
      "Index 0: apple\n",
      "Index 1: banana\n",
      "Index 2: orange\n",
      "Index 3: pear\n"
     ]
    }
   ],
   "source": [
    "fruits = ['apple', 'banana', 'orange', 'pear']\n",
    "\n",
    "print(list(enumerate(fruits)))\n",
    "\n",
    "for i, fruit in enumerate(fruits):\n",
    "    print(f\"Index {i}: {fruit}\")"
   ]
  },
  {
   "cell_type": "code",
   "execution_count": 41,
   "metadata": {},
   "outputs": [
    {
     "name": "stdout",
     "output_type": "stream",
     "text": [
      "The vowel a is at index 0.\n",
      "The consonant b is at index 1.\n",
      "The consonant c is at index 2.\n",
      "The consonant d is at index 3.\n",
      "The vowel e is at index 4.\n"
     ]
    }
   ],
   "source": [
    "letters = ['a', 'b', 'c', 'd', 'e']\n",
    "vowels = ['a', 'e', 'i', 'o', 'u']\n",
    "\n",
    "for i, letter in enumerate(letters):\n",
    "    if letter in vowels:\n",
    "        print(f\"The vowel {letter} is at index {i}.\")\n",
    "    else:\n",
    "        print(f\"The consonant {letter} is at index {i}.\")        "
   ]
  },
  {
   "cell_type": "code",
   "execution_count": 42,
   "metadata": {},
   "outputs": [
    {
     "name": "stdout",
     "output_type": "stream",
     "text": [
      "The distance between (1, 2, 3) and (4, 5, 6) is 5.20\n",
      "The distance between (1, 2, 3) and (7, 8, 9) is 10.39\n",
      "The distance between (4, 5, 6) and (7, 8, 9) is 5.20\n"
     ]
    }
   ],
   "source": [
    "import math\n",
    "\n",
    "# Define the list of tuples representing the points in 3D space\n",
    "points = [(1, 2, 3), (4, 5, 6), (7, 8, 9)]\n",
    "\n",
    "# Compute the distance between each pair of points using the Euclidean distance formula\n",
    "for i, p1 in enumerate(points):\n",
    "    for p2 in points[i+1:]: \n",
    "        distance = math.sqrt((p1[0]-p2[0])**2 + (p1[1]-p2[1])**2 + (p1[2]-p2[2])**2)\n",
    "        print(f'The distance between {p1} and {p2} is {distance:.2f}')"
   ]
  },
  {
   "attachments": {},
   "cell_type": "markdown",
   "metadata": {},
   "source": [
    "#### sorted()"
   ]
  },
  {
   "attachments": {},
   "cell_type": "markdown",
   "metadata": {},
   "source": [
    "The sorted() function can take a key argument that specifies a function to be applied to each element of the list before sorting"
   ]
  },
  {
   "cell_type": "code",
   "execution_count": 43,
   "metadata": {},
   "outputs": [
    {
     "name": "stdout",
     "output_type": "stream",
     "text": [
      "Sorted list:  [1, 1, 2, 3, 3, 4, 5, 5, 5, 6, 9]\n"
     ]
    }
   ],
   "source": [
    "numbers = [3, 1, 4, 1, 5, 9, 2, 6, 5, 3, 5]\n",
    "\n",
    "sorted_numbers = sorted(numbers)\n",
    "\n",
    "print(\"Sorted list: \", sorted_numbers)"
   ]
  },
  {
   "cell_type": "code",
   "execution_count": 45,
   "metadata": {},
   "outputs": [
    {
     "name": "stdout",
     "output_type": "stream",
     "text": [
      "Reverse sorted list:  ['pear', 'orange', 'banana', 'apple']\n",
      "Reverse sorted list by len ['banana', 'orange', 'apple', 'pear']\n"
     ]
    }
   ],
   "source": [
    "# Sorted Function Can get a key Argmuent ans sort considering that \n",
    "\n",
    "fruits = ['apple', 'banana', 'orange', 'pear']\n",
    "\n",
    "reverse_sorted_fruits = sorted(fruits, reverse=True )\n",
    "reverse_by_len = sorted(fruits , reverse=True , key=len)\n",
    "\n",
    "print(\"Reverse sorted list: \", reverse_sorted_fruits)\n",
    "print(\"Reverse sorted list by len\",reverse_by_len)"
   ]
  },
  {
   "attachments": {},
   "cell_type": "markdown",
   "metadata": {},
   "source": [
    "## Modules"
   ]
  },
  {
   "attachments": {},
   "cell_type": "markdown",
   "metadata": {},
   "source": [
    "### itertools"
   ]
  },
  {
   "cell_type": "code",
   "execution_count": null,
   "metadata": {},
   "outputs": [],
   "source": [
    "import itertools "
   ]
  },
  {
   "attachments": {},
   "cell_type": "markdown",
   "metadata": {},
   "source": [
    "#### itertools.cycle()"
   ]
  },
  {
   "attachments": {},
   "cell_type": "markdown",
   "metadata": {},
   "source": [
    "This function returns an iterator that repeats the elements of an iterable indefinitely"
   ]
  },
  {
   "cell_type": "code",
   "execution_count": null,
   "metadata": {},
   "outputs": [],
   "source": [
    "cycle_iter = itertools.cycle([1, 2, 3])\n",
    "\n",
    "# Print the first 10 values of the cycle iterator\n",
    "for i in range(5):\n",
    "    if i == 4 : \n",
    "        print(next(cycle_iter))\n",
    "        break"
   ]
  },
  {
   "attachments": {},
   "cell_type": "markdown",
   "metadata": {},
   "source": [
    "#### itertools.chain()\n"
   ]
  },
  {
   "attachments": {},
   "cell_type": "markdown",
   "metadata": {},
   "source": [
    "This function takes one or more iterables and returns an iterator that yields the elements of each iterable in turn."
   ]
  },
  {
   "cell_type": "code",
   "execution_count": null,
   "metadata": {},
   "outputs": [],
   "source": [
    "numbers = [1, 2, 3]\n",
    "letters = [\"a\", \"b\", \"c\"]\n",
    "for item in itertools.chain(numbers, letters):\n",
    "    print(item)"
   ]
  },
  {
   "attachments": {},
   "cell_type": "markdown",
   "metadata": {},
   "source": [
    "#### itertools.combinations()"
   ]
  },
  {
   "attachments": {},
   "cell_type": "markdown",
   "metadata": {},
   "source": [
    "This function returns an iterator that generates all possible combinations of a given length from an iterable"
   ]
  },
  {
   "cell_type": "code",
   "execution_count": null,
   "metadata": {},
   "outputs": [],
   "source": [
    "import itertools\n",
    "\n",
    "colors = [\"red\", \"green\", \"blue\",\"orange\"]\n",
    "for combination in itertools.combinations(colors , 3):\n",
    "    print(combination)\n"
   ]
  },
  {
   "attachments": {},
   "cell_type": "markdown",
   "metadata": {},
   "source": [
    "#### itertools.permutations()"
   ]
  },
  {
   "attachments": {},
   "cell_type": "markdown",
   "metadata": {},
   "source": [
    "it returns all possible permutations of a given iterable."
   ]
  },
  {
   "cell_type": "code",
   "execution_count": null,
   "metadata": {},
   "outputs": [],
   "source": [
    "elements = ['A', 'B', 'C','4']\n",
    "permutations = itertools.permutations(elements)\n",
    "\n",
    "for permutation in permutations:\n",
    "    print(permutation)"
   ]
  },
  {
   "attachments": {},
   "cell_type": "markdown",
   "metadata": {},
   "source": [
    "# Chapter 2 : The Dark Python "
   ]
  },
  {
   "attachments": {},
   "cell_type": "markdown",
   "metadata": {},
   "source": [
    "## Why OOP ? "
   ]
  },
  {
   "attachments": {},
   "cell_type": "markdown",
   "metadata": {},
   "source": [
    "OOP is important for several reasons, including : <br> \n",
    "**Code organization :** OOP allows you to organize your code into smaller,<br> more manageable modules called objects, which can be easily reused and modified.  <br> This can make your code more readable and easier to maintain, especially as your programs become more complex. <br> <br>\n",
    "**Code reuse:** OOP promotes code reuse by allowing you to create classes that can be used to create multiple objects with similar characteristics.<br> This reduces code duplication and can save time and effort when developing complex programs. <br> <br>\n",
    "**Polymorphism :** Polymorphism is another important aspect of OOP that allows objects of different classes <br> to be treated as if they were of the same class. This can make your code more flexible and easier to maintain. <br> <br>\n",
    "**Modularity :** OOP promotes modularity by allowing you to break down your code into smaller, more manageable components. <br> This can make your code easier to test, debug, and maintain."
   ]
  },
  {
   "attachments": {},
   "cell_type": "markdown",
   "metadata": {},
   "source": [
    "## Class , Steps to implement"
   ]
  },
  {
   "attachments": {},
   "cell_type": "markdown",
   "metadata": {},
   "source": [
    "### Basics"
   ]
  },
  {
   "attachments": {},
   "cell_type": "markdown",
   "metadata": {},
   "source": [
    "it's so simple , trust me "
   ]
  },
  {
   "cell_type": "code",
   "execution_count": 46,
   "metadata": {},
   "outputs": [],
   "source": [
    "class EasyToImplement:\n",
    "    # Your Methods\n",
    "    pass"
   ]
  },
  {
   "cell_type": "code",
   "execution_count": 47,
   "metadata": {},
   "outputs": [
    {
     "name": "stdout",
     "output_type": "stream",
     "text": [
      "Alice\n",
      "30\n"
     ]
    }
   ],
   "source": [
    "class Person:\n",
    "    def __init__(self, name, age): # we will talk about this in a bit \n",
    "        self.name = name\n",
    "        self.age = age\n",
    "        \n",
    "person1 = Person(\"Alice\", 25)\n",
    "person2 = Person(\"Bob\", 30)\n",
    "\n",
    "print(person1.name)\n",
    "print(person2.age)  "
   ]
  },
  {
   "attachments": {},
   "cell_type": "markdown",
   "metadata": {},
   "source": [
    "#### what is ' self  ' ? "
   ]
  },
  {
   "attachments": {},
   "cell_type": "markdown",
   "metadata": {},
   "source": [
    "The self parameter is used to refer to the object itself <br> so that you can access or modify its attributes and methods.<br> For example, if you wanted to modify an attribute of the object within the my_method method<br> you would use self.attribute_name. Here's an example:"
   ]
  },
  {
   "cell_type": "code",
   "execution_count": 48,
   "metadata": {},
   "outputs": [
    {
     "name": "stdout",
     "output_type": "stream",
     "text": [
      "Hello , i'm Alice\n"
     ]
    }
   ],
   "source": [
    "class Person:\n",
    "    def __init__(self, name, age):\n",
    "        self.name = name\n",
    "        self.age = age\n",
    "    \n",
    "    def say_hello(self):\n",
    "        print(f\"Hello , i'm {self.name}\")\n",
    "        \n",
    "person1 = Person(\"Alice\", 25)\n",
    "person1.say_hello()"
   ]
  },
  {
   "attachments": {},
   "cell_type": "markdown",
   "metadata": {},
   "source": [
    "##### if we have to input self in every function , why it's not there by default ? "
   ]
  },
  {
   "attachments": {},
   "cell_type": "markdown",
   "metadata": {},
   "source": [
    "because Python is a dynamically-typed language, which means that the type of a variable is determined at runtime rather than at compile time.\n",
    "\n",
    "This means that when you call a method on an object, Python needs to know which object the method belongs to.<br> The self parameter is used to explicitly pass the object as an argument to the method.<br> By including self as the first parameter in the method definition, you're telling Python to expect an object to be passed in when the method is called."
   ]
  },
  {
   "attachments": {},
   "cell_type": "markdown",
   "metadata": {},
   "source": [
    "#### how Constructor is implemented ?"
   ]
  },
  {
   "attachments": {},
   "cell_type": "markdown",
   "metadata": {},
   "source": [
    " the constructor method is called  __ init__() and is used to set the initial state of the object. (Check previous code cell)"
   ]
  },
  {
   "attachments": {},
   "cell_type": "markdown",
   "metadata": {},
   "source": [
    "##### How to make my attributes private (AKA Encapsulation) ? "
   ]
  },
  {
   "attachments": {},
   "cell_type": "markdown",
   "metadata": {},
   "source": [
    " using a naming convention called name mangling.<br> To make an attribute or method private in Python, we simply prefix its name with two underscores"
   ]
  },
  {
   "cell_type": "code",
   "execution_count": 49,
   "metadata": {},
   "outputs": [],
   "source": [
    "class person4:\n",
    "    def __init__(self , age):\n",
    "        self.__age = age\n"
   ]
  },
  {
   "cell_type": "code",
   "execution_count": 51,
   "metadata": {},
   "outputs": [
    {
     "ename": "AttributeError",
     "evalue": "'person4' object has no attribute '__age'",
     "output_type": "error",
     "traceback": [
      "\u001b[1;31m---------------------------------------------------------------------------\u001b[0m",
      "\u001b[1;31mAttributeError\u001b[0m                            Traceback (most recent call last)",
      "\u001b[1;32mc:\\Users\\shadm\\Desktop\\PythonLecture.ipynb Cell 112\u001b[0m in \u001b[0;36m<module>\u001b[1;34m\u001b[0m\n\u001b[0;32m      <a href='vscode-notebook-cell:/c%3A/Users/shadm/Desktop/PythonLecture.ipynb#Y214sZmlsZQ%3D%3D?line=0'>1</a>\u001b[0m p \u001b[39m=\u001b[39m person4(\u001b[39m20\u001b[39m)\n\u001b[1;32m----> <a href='vscode-notebook-cell:/c%3A/Users/shadm/Desktop/PythonLecture.ipynb#Y214sZmlsZQ%3D%3D?line=1'>2</a>\u001b[0m \u001b[39mprint\u001b[39m(p\u001b[39m.\u001b[39;49m__age)\n",
      "\u001b[1;31mAttributeError\u001b[0m: 'person4' object has no attribute '__age'"
     ]
    }
   ],
   "source": [
    "p = person4(20)\n",
    "print(p.__age) # <- Raises Error"
   ]
  },
  {
   "attachments": {},
   "cell_type": "markdown",
   "metadata": {},
   "source": [
    "##### Note:  you can't fully encapsulate your data "
   ]
  },
  {
   "attachments": {},
   "cell_type": "markdown",
   "metadata": {},
   "source": [
    "The class variables can be accessed by adding _classname to it. The name mangling is closest to private not exactly private.\n"
   ]
  },
  {
   "cell_type": "code",
   "execution_count": 52,
   "metadata": {},
   "outputs": [
    {
     "name": "stdout",
     "output_type": "stream",
     "text": [
      "20\n"
     ]
    }
   ],
   "source": [
    "print(p._person4__age)"
   ]
  },
  {
   "attachments": {},
   "cell_type": "markdown",
   "metadata": {},
   "source": [
    "## Inheritance and Polymorphism "
   ]
  },
  {
   "attachments": {},
   "cell_type": "markdown",
   "metadata": {},
   "source": [
    "### Inheritance"
   ]
  },
  {
   "attachments": {},
   "cell_type": "markdown",
   "metadata": {},
   "source": [
    "Inheritance is a powerful feature of object-oriented programming that allows one class to inherit properties and methods from another class.<br> The class that is being inherited from is called the \"parent\" or \"base\" class, while the class that is inheriting is called the \"child\" or \"derived\" class."
   ]
  },
  {
   "cell_type": "code",
   "execution_count": 53,
   "metadata": {},
   "outputs": [],
   "source": [
    "class BaseClass():\n",
    "    pass\n",
    "\n",
    "class DerivedClass(BaseClass):\n",
    "    # class definition here\n",
    "    pass"
   ]
  },
  {
   "cell_type": "code",
   "execution_count": 54,
   "metadata": {},
   "outputs": [
    {
     "name": "stdout",
     "output_type": "stream",
     "text": [
      "Woof\n"
     ]
    }
   ],
   "source": [
    "class Animal:\n",
    "    def __init__(self, name, age):\n",
    "        self.name = name\n",
    "        self.age = age\n",
    "    \n",
    "    def speak(self):\n",
    "        pass\n",
    "\n",
    "class Dog(Animal):\n",
    "    def speak(self):\n",
    "        return \"Woof\"\n",
    "    \n",
    "    \n",
    "    \n",
    "my_dog = Dog(\"Buddy\", 3)\n",
    "print(my_dog.speak()) "
   ]
  },
  {
   "cell_type": "code",
   "execution_count": 55,
   "metadata": {},
   "outputs": [
    {
     "name": "stdout",
     "output_type": "stream",
     "text": [
      "Fluffy\n",
      "cat\n",
      "Meow!\n"
     ]
    }
   ],
   "source": [
    "class Animal:\n",
    "    def __init__(self, name, species):\n",
    "        self.name = name\n",
    "        self.species = species\n",
    "\n",
    "    def speak(self):\n",
    "        print(\"The animal speaks.\")\n",
    "\n",
    "class Cat(Animal):\n",
    "    def __init__(self, name):\n",
    "        super().__init__(name, \"cat\")\n",
    "\n",
    "    def speak(self):\n",
    "        print(\"Meow!\")\n",
    "        \n",
    "        \n",
    "\n",
    "my_cat = Cat(\"Fluffy\")\n",
    "print(my_cat.name)  \n",
    "print(my_cat.species)  \n",
    "my_cat.speak()  "
   ]
  },
  {
   "attachments": {},
   "cell_type": "markdown",
   "metadata": {},
   "source": [
    "##### what is super() "
   ]
  },
  {
   "attachments": {},
   "cell_type": "markdown",
   "metadata": {},
   "source": [
    "super() is a built-in Python function that returns a temporary object of the superclass, allowing you to call its methods.<br> It is often used in method overriding to call the parent class's method."
   ]
  },
  {
   "cell_type": "code",
   "execution_count": 56,
   "metadata": {},
   "outputs": [
    {
     "name": "stdout",
     "output_type": "stream",
     "text": [
      "Toyota vehicle starting.\n",
      "Toyota Camry starting.\n"
     ]
    }
   ],
   "source": [
    "class Vehicle:\n",
    "    def __init__(self, brand):\n",
    "        self.brand = brand\n",
    "\n",
    "    def start(self):\n",
    "        print(f\"{self.brand} vehicle starting.\")\n",
    "\n",
    "class Car(Vehicle):\n",
    "    def __init__(self, brand, model):\n",
    "        super().__init__(brand)\n",
    "        self.model = model\n",
    "\n",
    "    def start(self):\n",
    "        super().start()\n",
    "        print(f\"{self.brand} {self.model} starting.\")\n",
    "\n",
    "my_car = Car(\"Toyota\", \"Camry\")\n",
    "my_car.start()\n"
   ]
  },
  {
   "attachments": {},
   "cell_type": "markdown",
   "metadata": {},
   "source": [
    "##### And Another one "
   ]
  },
  {
   "cell_type": "code",
   "execution_count": 57,
   "metadata": {},
   "outputs": [
    {
     "name": "stdout",
     "output_type": "stream",
     "text": [
      "Engine started.\n",
      "Car engine started.\n",
      "Truck engine started.\n"
     ]
    }
   ],
   "source": [
    "class Vehicle:\n",
    "    def __init__(self, make, model, year):\n",
    "        self.make = make\n",
    "        self.model = model\n",
    "        self.year = year\n",
    "\n",
    "    def start_engine(self):\n",
    "        print(\"Engine started.\")\n",
    "\n",
    "class Car(Vehicle):\n",
    "    def __init__(self, make, model, year, num_doors):\n",
    "        super().__init__(make, model, year)\n",
    "        self.num_doors = num_doors\n",
    "\n",
    "    def start_engine(self):\n",
    "        print(\"Car engine started.\")\n",
    "\n",
    "class Truck(Vehicle):\n",
    "    def __init__(self, make, model, year, payload_capacity):\n",
    "        super().__init__(make, model, year)\n",
    "        self.payload_capacity = payload_capacity\n",
    "\n",
    "    def start_engine(self):\n",
    "        print(\"Truck engine started.\")\n",
    "\n",
    "def start_vehicle(vehicle):\n",
    "    vehicle.start_engine()\n",
    "\n",
    "my_vehicle = Vehicle(\"Honda\", \"Civic\", 2010)\n",
    "my_car = Car(\"Toyota\", \"Camry\", 2015, 4)\n",
    "my_truck = Truck(\"Ford\", \"F-150\", 2020, 2000)\n",
    "\n",
    "start_vehicle(my_vehicle)  \n",
    "start_vehicle(my_car)  \n",
    "start_vehicle(my_truck) "
   ]
  },
  {
   "cell_type": "code",
   "execution_count": 58,
   "metadata": {},
   "outputs": [],
   "source": [
    "class BankAccount:\n",
    "    def __init__(self, account_number, balance):\n",
    "        self.account_number = account_number\n",
    "        self.balance = balance\n",
    "    \n",
    "    def deposit(self, amount):\n",
    "        self.balance += amount\n",
    "    \n",
    "    def withdraw(self, amount):\n",
    "        if amount > self.balance:\n",
    "            raise ValueError(\"Insufficient funds\")\n",
    "        else:\n",
    "            self.balance -= amount\n",
    "    \n",
    "    def transfer(self, amount, recipient):\n",
    "        self.withdraw(amount)\n",
    "        recipient.deposit(amount)\n",
    "    \n",
    "    def get_balance(self):\n",
    "        return self.balance\n",
    "\n",
    "    def get_account_number(self):\n",
    "        return self.account_number\n",
    "    \n",
    "    def set_account_number(self, new_account_number):\n",
    "        self.account_number = new_account_number\n",
    "    \n",
    "    def __str__(self):\n",
    "        return f\"BankAccount {self.account_number} has {self.balance} $\"\n",
    "    "
   ]
  },
  {
   "cell_type": "code",
   "execution_count": 59,
   "metadata": {},
   "outputs": [
    {
     "name": "stdout",
     "output_type": "stream",
     "text": [
      "BankAccount 123 has 1000 $\n"
     ]
    }
   ],
   "source": [
    "acc = BankAccount(123 , 1000)\n",
    "print(str(acc))"
   ]
  },
  {
   "attachments": {},
   "cell_type": "markdown",
   "metadata": {},
   "source": [
    "### Polymorphism "
   ]
  },
  {
   "attachments": {},
   "cell_type": "markdown",
   "metadata": {},
   "source": [
    "Polymorphism is another key concept in object-oriented programming ,which refers to the ability of objects of different classes to be used interchangeably.<br> In Python, we can achieve polymorphism by defining a common interface (i.e., a set of methods) that all classes should implement, even if their implementations differ."
   ]
  },
  {
   "cell_type": "code",
   "execution_count": 60,
   "metadata": {},
   "outputs": [
    {
     "name": "stdout",
     "output_type": "stream",
     "text": [
      "The area of the shape is: 20.00\n",
      "The area of the shape is: 28.26\n"
     ]
    }
   ],
   "source": [
    "class Shape:\n",
    "    def area(self):\n",
    "        pass\n",
    "\n",
    "class Rectangle(Shape):\n",
    "    def __init__(self, length, width):\n",
    "        self.length = length\n",
    "        self.width = width\n",
    "\n",
    "    def area(self):\n",
    "        return self.length * self.width\n",
    "\n",
    "class Circle(Shape):\n",
    "    def __init__(self, radius):\n",
    "        self.radius = radius\n",
    "\n",
    "    def area(self):\n",
    "        return 3.14 * self.radius * self.radius\n",
    "\n",
    "def print_area(shape):\n",
    "    print(f\"The area of the shape is: {shape.area() :.2f}\")\n",
    "\n",
    "my_rectangle = Rectangle(4, 5)\n",
    "my_circle = Circle(3)\n",
    "print_area(my_rectangle) \n",
    "print_area(my_circle)  "
   ]
  },
  {
   "attachments": {},
   "cell_type": "markdown",
   "metadata": {},
   "source": [
    "## Advanced Techniques"
   ]
  },
  {
   "attachments": {},
   "cell_type": "markdown",
   "metadata": {},
   "source": [
    "#### Mixins"
   ]
  },
  {
   "attachments": {},
   "cell_type": "markdown",
   "metadata": {},
   "source": [
    "These are classes that provide a set of methods or attributes that can be \"mixed in\" to other classes."
   ]
  },
  {
   "cell_type": "code",
   "execution_count": 62,
   "metadata": {},
   "outputs": [
    {
     "name": "stdout",
     "output_type": "stream",
     "text": [
      "{'name': 'John', 'age': 30}\n"
     ]
    }
   ],
   "source": [
    "class DebugMixin:\n",
    "    def debug(self):\n",
    "        print(self.__dict__)\n",
    "\n",
    "class Person(DebugMixin):\n",
    "    def __init__(self, name, age):\n",
    "        self.name = name\n",
    "        self.age = age\n",
    "\n",
    "p = Person(\"John\", 30)\n",
    "p.debug()  "
   ]
  },
  {
   "attachments": {},
   "cell_type": "markdown",
   "metadata": {},
   "source": [
    "#### Multiple inheritance "
   ]
  },
  {
   "attachments": {},
   "cell_type": "markdown",
   "metadata": {},
   "source": [
    "This allows a subclass to inherit from multiple parent classes."
   ]
  },
  {
   "cell_type": "code",
   "execution_count": 63,
   "metadata": {},
   "outputs": [
    {
     "name": "stdout",
     "output_type": "stream",
     "text": [
      "Method A\n",
      "Method B\n"
     ]
    }
   ],
   "source": [
    "class A:\n",
    "    def method_a(self):\n",
    "        print(\"Method A\")\n",
    "\n",
    "class B:\n",
    "    def method_b(self):\n",
    "        print(\"Method B\")\n",
    "\n",
    "class C(A, B):\n",
    "    pass\n",
    "\n",
    "c = C()\n",
    "c.method_a() \n",
    "c.method_b()  \n"
   ]
  },
  {
   "attachments": {},
   "cell_type": "markdown",
   "metadata": {},
   "source": [
    "#### Method overriding"
   ]
  },
  {
   "attachments": {},
   "cell_type": "markdown",
   "metadata": {},
   "source": [
    " This is the process of defining a method in a subclass with the same name as a method in the superclass <br> effectively replacing the superclass method"
   ]
  },
  {
   "cell_type": "code",
   "execution_count": 64,
   "metadata": {},
   "outputs": [
    {
     "name": "stdout",
     "output_type": "stream",
     "text": [
      "Method B\n"
     ]
    }
   ],
   "source": [
    "class A:\n",
    "    def method(self):\n",
    "        print(\"Method A\")\n",
    "\n",
    "class B(A):\n",
    "    def method(self):\n",
    "        print(\"Method B\")\n",
    "\n",
    "b = B()\n",
    "b.method() \n"
   ]
  },
  {
   "attachments": {},
   "cell_type": "markdown",
   "metadata": {},
   "source": [
    "#### Method overloading "
   ]
  },
  {
   "attachments": {},
   "cell_type": "markdown",
   "metadata": {},
   "source": [
    " This is the process of defining multiple methods with the same name but different signatures (i.e. number or types of parameters). <br> In Python, method overloading is typically achieved using default parameter values or variable-length argument lists."
   ]
  },
  {
   "cell_type": "code",
   "execution_count": 65,
   "metadata": {},
   "outputs": [
    {
     "ename": "TypeError",
     "evalue": "add() missing 1 required positional argument: 'z'",
     "output_type": "error",
     "traceback": [
      "\u001b[1;31m---------------------------------------------------------------------------\u001b[0m",
      "\u001b[1;31mTypeError\u001b[0m                                 Traceback (most recent call last)",
      "\u001b[1;32mc:\\Users\\shadm\\Desktop\\PythonLecture.ipynb Cell 144\u001b[0m in \u001b[0;36m<module>\u001b[1;34m\u001b[0m\n\u001b[0;32m      <a href='vscode-notebook-cell:/c%3A/Users/shadm/Desktop/PythonLecture.ipynb#Y261sZmlsZQ%3D%3D?line=5'>6</a>\u001b[0m         \u001b[39mreturn\u001b[39;00m x \u001b[39m+\u001b[39m y \u001b[39m+\u001b[39m z\n\u001b[0;32m      <a href='vscode-notebook-cell:/c%3A/Users/shadm/Desktop/PythonLecture.ipynb#Y261sZmlsZQ%3D%3D?line=7'>8</a>\u001b[0m m \u001b[39m=\u001b[39m Math()\n\u001b[1;32m----> <a href='vscode-notebook-cell:/c%3A/Users/shadm/Desktop/PythonLecture.ipynb#Y261sZmlsZQ%3D%3D?line=8'>9</a>\u001b[0m \u001b[39mprint\u001b[39m(m\u001b[39m.\u001b[39;49madd(\u001b[39m1\u001b[39;49m, \u001b[39m2\u001b[39;49m))     \u001b[39m# Raises TypeError\u001b[39;00m\n\u001b[0;32m     <a href='vscode-notebook-cell:/c%3A/Users/shadm/Desktop/PythonLecture.ipynb#Y261sZmlsZQ%3D%3D?line=9'>10</a>\u001b[0m \u001b[39mprint\u001b[39m(m\u001b[39m.\u001b[39madd(\u001b[39m1\u001b[39m, \u001b[39m2\u001b[39m, \u001b[39m3\u001b[39m))\n",
      "\u001b[1;31mTypeError\u001b[0m: add() missing 1 required positional argument: 'z'"
     ]
    }
   ],
   "source": [
    "class Math:\n",
    "    def add(self, x, y):\n",
    "        return x + y\n",
    "\n",
    "    def add(self, x, y, z):\n",
    "        return x + y + z\n",
    "\n",
    "m = Math()\n",
    "print(m.add(1, 2))     # Raises TypeError\n",
    "print(m.add(1, 2, 3))"
   ]
  },
  {
   "cell_type": "code",
   "execution_count": 66,
   "metadata": {},
   "outputs": [],
   "source": [
    "class Calculator:\n",
    "    def add(self, a, b, c=0):\n",
    "        return a + b + c\n"
   ]
  },
  {
   "cell_type": "code",
   "execution_count": 67,
   "metadata": {},
   "outputs": [
    {
     "name": "stdout",
     "output_type": "stream",
     "text": [
      "5\n",
      "9\n"
     ]
    }
   ],
   "source": [
    "calc = Calculator()\n",
    "result = calc.add(2, 3)\n",
    "print(result) \n",
    "\n",
    "result = calc.add(2, 3, 4)\n",
    "print(result) \n"
   ]
  },
  {
   "attachments": {},
   "cell_type": "markdown",
   "metadata": {},
   "source": [
    "#### Duck typing"
   ]
  },
  {
   "attachments": {},
   "cell_type": "markdown",
   "metadata": {},
   "source": [
    "Duck typing is a concept in Python that determines the type of an object by its behavior, rather than its class or inheritance hierarchy. <br> It is often summed up by the phrase<br> \n",
    "<b>\"If it looks like a duck, swims like a duck, and quacks like a duck, then it probably is a duck.\" </b> <br> In Python, we can take advantage of duck typing to write more flexible and dynamic code that can work with a variety of objects that have the same behavior. "
   ]
  },
  {
   "cell_type": "code",
   "execution_count": 68,
   "metadata": {},
   "outputs": [
    {
     "name": "stdout",
     "output_type": "stream",
     "text": [
      "Total price: 91.98\n"
     ]
    }
   ],
   "source": [
    "def calculate_total_price(items):\n",
    "    total = 0\n",
    "    for item in items:\n",
    "        total += item.price\n",
    "    return total\n",
    "\n",
    "class Product:\n",
    "    def __init__(self, name, price):\n",
    "        self.name = name\n",
    "        self.price = price\n",
    "\n",
    "class Service:\n",
    "    def __init__(self, name, hourly_rate):\n",
    "        self.name = name\n",
    "        self.price = hourly_rate\n",
    "\n",
    "# Create some products and services\n",
    "product1 = Product(\"Widget\", 10.99)\n",
    "product2 = Product(\"Gizmo\", 5.99)\n",
    "service1 = Service(\"Consulting\", 75.00)\n",
    "\n",
    "# Call the calculate_total_price function with a list of products and services\n",
    "items = [product1, product2, service1]\n",
    "total = calculate_total_price(items)\n",
    "print(\"Total price:\", total)\n"
   ]
  },
  {
   "attachments": {},
   "cell_type": "markdown",
   "metadata": {},
   "source": [
    "## OOP Examples "
   ]
  },
  {
   "attachments": {},
   "cell_type": "markdown",
   "metadata": {},
   "source": [
    "## EG1 : Linked List "
   ]
  },
  {
   "cell_type": "code",
   "execution_count": 69,
   "metadata": {},
   "outputs": [
    {
     "name": "stdout",
     "output_type": "stream",
     "text": [
      "5->4->3->2->1->None\n"
     ]
    }
   ],
   "source": [
    "# ---- A Drunk Man Will Find His Way Home but a Drunk Bird May Get Lost Forever =) ----\n",
    "\n",
    "# Node class\n",
    "class Node:\n",
    "    def __init__(self, data):\n",
    "        self.data = data\n",
    "        self.next = None\n",
    "        self.prev = None\n",
    "\n",
    "# Linked List class\n",
    "class LinkedList:\n",
    "    def __init__(self , Head = None):\n",
    "        self.head = Head\n",
    "        \n",
    "    def insert_at_tail(self, data):\n",
    "        new_node = Node(data)\n",
    "        if self.head is None:\n",
    "            self.head = new_node\n",
    "        else:\n",
    "            current_node = self.head\n",
    "            while current_node.next is not None:\n",
    "                current_node = current_node.next\n",
    "            current_node.next = new_node\n",
    "            new_node.prev = current_node\n",
    "    \n",
    "    def insert_at_head(self,data):\n",
    "        if self.head is None:\n",
    "            self.head = new_node\n",
    "        else:\n",
    "            new_node = Node(data)\n",
    "            new_node.next = self.head\n",
    "            self.head = new_node\n",
    "            new_node.next.prev = new_node\n",
    "\n",
    "            \n",
    "    def print(self):\n",
    "        current_node = self.head\n",
    "        while current_node is not None:\n",
    "            print(current_node.data, end ='->')\n",
    "            current_node = current_node.next\n",
    "        print('None')\n",
    "\n",
    "    def size(self):\n",
    "        current_node = self.head\n",
    "        count = 0 \n",
    "        while current_node is not None:\n",
    "            count += 1 \n",
    "            current_node = current_node.next\n",
    "        return count\n",
    "    \n",
    "    def delete_by_value(self,value):\n",
    "        current_node = self.head\n",
    "        previous_node : Node()\n",
    "        while True:\n",
    "            if current_node.data == value:\n",
    "                previous_node.next = current_node.next \n",
    "                break\n",
    "            else:\n",
    "                previous_node = current_node\n",
    "                current_node = current_node.next\n",
    "\n",
    "    def delete_by_index(self,index):\n",
    "        current_node = self.head \n",
    "        previous_node :Node()\n",
    "        Current_index = 0 \n",
    "        while Current_index is not index:\n",
    "            previous_node = current_node\n",
    "            current_node = current_node.next\n",
    "            Current_index += 1 \n",
    "        \n",
    "        previous_node.next = current_node.next\n",
    "\n",
    "    def exists(self,value):\n",
    "        current_node = self.head \n",
    "        while current_node is not None:\n",
    "            if current_node.data is value:\n",
    "                return True\n",
    "            else:\n",
    "                current_node = current_node.next\n",
    "            return False\n",
    "\n",
    "    def reverse(self):\n",
    "        current_node = self.head \n",
    "        while current_node is not None:\n",
    "            self.head = current_node\n",
    "            next_node = current_node.next\n",
    "            current_node.next = current_node.prev\n",
    "            current_node.prev = current_node.next\n",
    "            current_node = next_node\n",
    "\n",
    "\n",
    "\n",
    " \n",
    "\n",
    "\n",
    "if __name__ == '__main__':\n",
    "    # Inserting data in Linked List\n",
    "    llist = LinkedList()\n",
    "    llist.insert_at_tail(1)\n",
    "    llist.insert_at_tail(2)\n",
    "    llist.insert_at_tail(3)\n",
    "    llist.insert_at_tail(4)\n",
    "    llist.insert_at_tail(5)\n",
    "    llist.reverse()\n",
    "    llist.print()\n",
    "\n",
    "    # print(llist.head)\n",
    "    \n",
    "    # llist.delete_by_index(1)\n",
    "    # llist.print()\n",
    "    # print(llist.exists(10))\n",
    "    # print(llist.size())\n",
    "          \n",
    "        "
   ]
  },
  {
   "cell_type": "code",
   "execution_count": 70,
   "metadata": {},
   "outputs": [
    {
     "name": "stdout",
     "output_type": "stream",
     "text": [
      "inorder tree traversal... : \n",
      "2\n",
      "3\n",
      "5\n",
      "10\n",
      "10\n",
      "12\n",
      "100\n",
      "preorder tree traversal... : \n",
      "5\n",
      "2\n",
      "3\n",
      "10\n",
      "12\n",
      "10\n",
      "100\n",
      "postorder tree traversal... : \n",
      "3\n",
      "2\n",
      "10\n",
      "100\n",
      "12\n",
      "10\n",
      "5\n",
      "tree minimum :\n",
      "2\n",
      "tree maximum :\n",
      "100\n",
      "True\n"
     ]
    }
   ],
   "source": [
    "# impleting Binary search tree clas in python (AKA BST).\n",
    "\n",
    "class TreeNode :\n",
    "    def __init__(self , value):\n",
    "        self.right = None \n",
    "        self.left = None \n",
    "        self.value = value \n",
    "    \n",
    "    def insert(self , value):\n",
    "        if value < self.value:\n",
    "            if self.left is None:\n",
    "                self.left =  TreeNode(value)\n",
    "            else : \n",
    "                self.left.insert(value)\n",
    "        else : \n",
    "            if self.right is None:\n",
    "                self.right = TreeNode(value)\n",
    "            else :\n",
    "                self.right.insert(value)\n",
    "    \n",
    "    def inorder(self):\n",
    "        if self.left is not None:\n",
    "            self.left.inorder()\n",
    "        print(self.value)\n",
    "        if self.right is not None:\n",
    "            self.right.inorder()\n",
    "    \n",
    "    def preorder(self):\n",
    "        print(self.value)\n",
    "        if self.left is not None:\n",
    "            self.left.preorder()\n",
    "        if self.right is not None:\n",
    "            self.right.preorder()\n",
    "\n",
    "    def postorder(self):\n",
    "        if self.left is not None:\n",
    "            self.left.postorder()\n",
    "        if self.right is not None:\n",
    "            self.right.postorder()\n",
    "        print(self.value)\n",
    "\n",
    "    def find(self ,value):\n",
    "        if value < self.value:\n",
    "            if self.left is None:\n",
    "                return False\n",
    "            else:\n",
    "                return self.left.find(value)\n",
    "\n",
    "        elif value > self.value:\n",
    "            if self.right is None:\n",
    "                return False\n",
    "            else:\n",
    "                return self.right.find(value)\n",
    "        else:\n",
    "            return True\n",
    "\n",
    "    def min(self):\n",
    "        while self.left is not None:\n",
    "            self = self.left\n",
    "        print (self.value)\n",
    "    \n",
    "    def max(self):\n",
    "        while self.right is not None:\n",
    "            self = self.right\n",
    "        print (self.value)\n",
    "\n",
    "\n",
    "# example\n",
    "if __name__ == '__main__':\n",
    "\n",
    "    tree = TreeNode(5)\n",
    "    tree.insert(10)\n",
    "    tree.insert(12)\n",
    "    tree.insert(100)\n",
    "    tree.insert(2)\n",
    "    tree.insert(10)\n",
    "    tree.insert(3)\n",
    "    print(\"inorder tree traversal... : \")\n",
    "    tree.inorder()\n",
    "    print(\"preorder tree traversal... : \")\n",
    "    tree.preorder()\n",
    "    print(\"postorder tree traversal... : \")\n",
    "    tree.postorder()\n",
    "    print(\"tree minimum :\")\n",
    "    tree.min()\n",
    "    print(\"tree maximum :\")\n",
    "    tree.max()\n",
    "    #check is 10 is in tree or not \n",
    "    print(tree.find(10))\n",
    "\n"
   ]
  },
  {
   "attachments": {},
   "cell_type": "markdown",
   "metadata": {},
   "source": [
    "# Chapter 3 : Python Rises"
   ]
  },
  {
   "attachments": {},
   "cell_type": "markdown",
   "metadata": {},
   "source": [
    "## Numpy"
   ]
  },
  {
   "attachments": {},
   "cell_type": "markdown",
   "metadata": {},
   "source": [
    "- NumPy, which stands for Numerical Python, is a library consisting of multidimensional array objects and a collection of routines for processing those arrays. Using NumPy, mathematical and logical operations on arrays can be performed.\n",
    "\n",
    "- You can install numpy package by running `pip install numpy` in a terminal.\n",
    "\n",
    "- Can be imported like this: `import numpy as np`\n",
    "\n",
    "*Numpy arrays (ndarrys)*\n",
    "\n",
    "- An N-dimensional array\n",
    "- Collection of items *of the same type*\n",
    "- Zero-based indexing"
   ]
  },
  {
   "attachments": {},
   "cell_type": "markdown",
   "metadata": {},
   "source": [
    "### Creating Numpy Arrays"
   ]
  },
  {
   "cell_type": "code",
   "execution_count": 71,
   "metadata": {},
   "outputs": [],
   "source": [
    "import numpy as np\n",
    "\n",
    "# different method of creating numpy arrays\n",
    "\n",
    "a = np.array([1, 2, 3, 4], dtype='int')\n",
    "b = np.arange(1, 10)\n",
    "c = np.zeros((3, 4), dtype='bool')\n",
    "d = np.linspace(0, 2, 10)"
   ]
  },
  {
   "cell_type": "code",
   "execution_count": 72,
   "metadata": {},
   "outputs": [
    {
     "name": "stdout",
     "output_type": "stream",
     "text": [
      "[1 2 3 4]\n",
      "--------------\n",
      "[1 2 3 4 5 6 7 8 9]\n",
      "--------------\n",
      "[[False False False False]\n",
      " [False False False False]\n",
      " [False False False False]]\n",
      "--------------\n",
      "[0.         0.22222222 0.44444444 0.66666667 0.88888889 1.11111111\n",
      " 1.33333333 1.55555556 1.77777778 2.        ]\n",
      "--------------\n"
     ]
    }
   ],
   "source": [
    "for x in [a, b, c, d]:\n",
    "    print(x)\n",
    "    print('--------------')"
   ]
  },
  {
   "cell_type": "code",
   "execution_count": 73,
   "metadata": {},
   "outputs": [
    {
     "name": "stdout",
     "output_type": "stream",
     "text": [
      "(3, 4)\n",
      "4\n",
      "12\n"
     ]
    }
   ],
   "source": [
    "print(c.shape)\n",
    "print(c.shape[1])\n",
    "print(c.size)"
   ]
  },
  {
   "attachments": {},
   "cell_type": "markdown",
   "metadata": {},
   "source": [
    "### The Magical Broadcasting"
   ]
  },
  {
   "cell_type": "code",
   "execution_count": 74,
   "metadata": {},
   "outputs": [
    {
     "name": "stdout",
     "output_type": "stream",
     "text": [
      "x: [1 2 3 4]\n",
      "y: [6 7 8 9]\n",
      "z: [2 4 6 8]\n",
      "w: [4 3 2 1]\n",
      "x * y = [ 6 14 24 36]\n"
     ]
    }
   ],
   "source": [
    "x = np.arange(1, 5)\n",
    "print(f'x: {x}')\n",
    "\n",
    "y = x + 5\n",
    "print(f'y: {y}')\n",
    "\n",
    "z = x * 2\n",
    "print(f'z: {z}')\n",
    "\n",
    "w = y - z\n",
    "print(f'w: {w}')\n",
    "\n",
    "print(f\"x * y = {x*y}\")"
   ]
  },
  {
   "cell_type": "code",
   "execution_count": 75,
   "metadata": {},
   "outputs": [
    {
     "name": "stdout",
     "output_type": "stream",
     "text": [
      "[[ 0  1  2  3]\n",
      " [ 4  5  6  7]\n",
      " [ 8  9 10 11]]\n",
      "[[1]\n",
      " [0]\n",
      " [1]]\n",
      "[[ 0  1  2  3]\n",
      " [ 0  0  0  0]\n",
      " [ 8  9 10 11]]\n"
     ]
    }
   ],
   "source": [
    "x = np.arange(12).reshape((3, 4))\n",
    "y = np.array([[1, 0, 1]]).T\n",
    "\n",
    "print(x)\n",
    "print(y)\n",
    "\n",
    "print(x * y)"
   ]
  },
  {
   "cell_type": "code",
   "execution_count": 76,
   "metadata": {},
   "outputs": [
    {
     "name": "stdout",
     "output_type": "stream",
     "text": [
      "[[0 1 2]]\n",
      "[[0]\n",
      " [1]\n",
      " [2]]\n",
      "[[0 1 2]\n",
      " [1 2 3]\n",
      " [2 3 4]]\n"
     ]
    }
   ],
   "source": [
    "x = np.array([[0, 1, 2]])\n",
    "y = x.T\n",
    "\n",
    "print(x)\n",
    "print(y)\n",
    "\n",
    "print(x + y)"
   ]
  },
  {
   "attachments": {},
   "cell_type": "markdown",
   "metadata": {},
   "source": [
    "### Selecting, Indexing Arrays"
   ]
  },
  {
   "cell_type": "code",
   "execution_count": 77,
   "metadata": {},
   "outputs": [
    {
     "name": "stdout",
     "output_type": "stream",
     "text": [
      "a: [0.  0.5 1.  1.5 2.  2.5 3.  3.5 4.  4.5 5. ]\n",
      "1.5\n",
      "[2.  2.5]\n",
      "[4.5 5. ]\n",
      "[0.  0.5 1. ]\n"
     ]
    }
   ],
   "source": [
    "a = np.linspace(0, 5, 11)\n",
    "print(f'a: {a}')\n",
    "\n",
    "print(a[3])\n",
    "print(a[4:6])\n",
    "print(a[-2:])\n",
    "print(a[:3])"
   ]
  },
  {
   "attachments": {},
   "cell_type": "markdown",
   "metadata": {},
   "source": [
    "### Some Basic Numpy Operations"
   ]
  },
  {
   "cell_type": "code",
   "execution_count": 78,
   "metadata": {},
   "outputs": [
    {
     "name": "stdout",
     "output_type": "stream",
     "text": [
      "60\n",
      "10\n",
      "8\n",
      "0\n",
      "3\n",
      "5.0\n",
      "1.118033988749895\n"
     ]
    }
   ],
   "source": [
    "a = np.array([1, 2, 3, 4])\n",
    "b = np.array([2, 4, 6, 8])\n",
    "\n",
    "print(a.dot(b))\n",
    "print(a.sum())\n",
    "print(b.max())\n",
    "print(a.argmin())\n",
    "print(a.argmax())\n",
    "print(b.mean())\n",
    "print(a.std())"
   ]
  },
  {
   "attachments": {},
   "cell_type": "markdown",
   "metadata": {},
   "source": [
    "***Numpy is HUGE!! These are just the basics!***"
   ]
  },
  {
   "attachments": {},
   "cell_type": "markdown",
   "metadata": {},
   "source": [
    "## Pandas"
   ]
  },
  {
   "attachments": {},
   "cell_type": "markdown",
   "metadata": {},
   "source": [
    "- Pandas is an open-source Python Library providing high-performance data manipulation and analysis tool using its powerful data structures. The name Pandas is derived from the word Panel Data – an Econometrics from Multidimensional data.\n",
    "\n",
    "- installation: `pip install pandas`\n",
    "\n",
    "- import with: `import pandas as pd`"
   ]
  },
  {
   "cell_type": "code",
   "execution_count": 79,
   "metadata": {},
   "outputs": [
    {
     "data": {
      "text/html": [
       "<div>\n",
       "<style scoped>\n",
       "    .dataframe tbody tr th:only-of-type {\n",
       "        vertical-align: middle;\n",
       "    }\n",
       "\n",
       "    .dataframe tbody tr th {\n",
       "        vertical-align: top;\n",
       "    }\n",
       "\n",
       "    .dataframe thead th {\n",
       "        text-align: right;\n",
       "    }\n",
       "</style>\n",
       "<table border=\"1\" class=\"dataframe\">\n",
       "  <thead>\n",
       "    <tr style=\"text-align: right;\">\n",
       "      <th></th>\n",
       "      <th>name</th>\n",
       "      <th>weight</th>\n",
       "      <th>height</th>\n",
       "    </tr>\n",
       "  </thead>\n",
       "  <tbody>\n",
       "    <tr>\n",
       "      <th>0</th>\n",
       "      <td>taghi</td>\n",
       "      <td>100</td>\n",
       "      <td>1.95</td>\n",
       "    </tr>\n",
       "    <tr>\n",
       "      <th>1</th>\n",
       "      <td>ali</td>\n",
       "      <td>67</td>\n",
       "      <td>1.80</td>\n",
       "    </tr>\n",
       "    <tr>\n",
       "      <th>2</th>\n",
       "      <td>nasrin</td>\n",
       "      <td>85</td>\n",
       "      <td>1.65</td>\n",
       "    </tr>\n",
       "  </tbody>\n",
       "</table>\n",
       "</div>"
      ],
      "text/plain": [
       "     name  weight  height\n",
       "0   taghi     100    1.95\n",
       "1     ali      67    1.80\n",
       "2  nasrin      85    1.65"
      ]
     },
     "execution_count": 79,
     "metadata": {},
     "output_type": "execute_result"
    }
   ],
   "source": [
    "import pandas as pd\n",
    "\n",
    "df = pd.DataFrame({\n",
    "    'name': ['taghi', 'ali', 'nasrin'],\n",
    "    'weight': [100, 67, 85],\n",
    "    'height': [1.95, 1.80, 1.65]\n",
    "})\n",
    "\n",
    "df.head() # <-- Notice the index values"
   ]
  },
  {
   "cell_type": "code",
   "execution_count": 80,
   "metadata": {},
   "outputs": [],
   "source": [
    "df = df.set_index('name')"
   ]
  },
  {
   "cell_type": "code",
   "execution_count": 81,
   "metadata": {},
   "outputs": [
    {
     "data": {
      "text/html": [
       "<div>\n",
       "<style scoped>\n",
       "    .dataframe tbody tr th:only-of-type {\n",
       "        vertical-align: middle;\n",
       "    }\n",
       "\n",
       "    .dataframe tbody tr th {\n",
       "        vertical-align: top;\n",
       "    }\n",
       "\n",
       "    .dataframe thead th {\n",
       "        text-align: right;\n",
       "    }\n",
       "</style>\n",
       "<table border=\"1\" class=\"dataframe\">\n",
       "  <thead>\n",
       "    <tr style=\"text-align: right;\">\n",
       "      <th></th>\n",
       "      <th>weight</th>\n",
       "      <th>height</th>\n",
       "    </tr>\n",
       "    <tr>\n",
       "      <th>name</th>\n",
       "      <th></th>\n",
       "      <th></th>\n",
       "    </tr>\n",
       "  </thead>\n",
       "  <tbody>\n",
       "    <tr>\n",
       "      <th>taghi</th>\n",
       "      <td>100</td>\n",
       "      <td>1.95</td>\n",
       "    </tr>\n",
       "    <tr>\n",
       "      <th>ali</th>\n",
       "      <td>67</td>\n",
       "      <td>1.80</td>\n",
       "    </tr>\n",
       "    <tr>\n",
       "      <th>nasrin</th>\n",
       "      <td>85</td>\n",
       "      <td>1.65</td>\n",
       "    </tr>\n",
       "  </tbody>\n",
       "</table>\n",
       "</div>"
      ],
      "text/plain": [
       "        weight  height\n",
       "name                  \n",
       "taghi      100    1.95\n",
       "ali         67    1.80\n",
       "nasrin      85    1.65"
      ]
     },
     "execution_count": 81,
     "metadata": {},
     "output_type": "execute_result"
    }
   ],
   "source": [
    "df"
   ]
  },
  {
   "attachments": {},
   "cell_type": "markdown",
   "metadata": {},
   "source": [
    "### Accessing Values Within The DataFrame"
   ]
  },
  {
   "attachments": {},
   "cell_type": "markdown",
   "metadata": {},
   "source": [
    "using `.loc` and `.iloc`"
   ]
  },
  {
   "cell_type": "code",
   "execution_count": 82,
   "metadata": {},
   "outputs": [
    {
     "data": {
      "text/plain": [
       "weight    67.0\n",
       "height     1.8\n",
       "Name: ali, dtype: float64"
      ]
     },
     "execution_count": 82,
     "metadata": {},
     "output_type": "execute_result"
    }
   ],
   "source": [
    "df.loc['ali']"
   ]
  },
  {
   "cell_type": "code",
   "execution_count": 83,
   "metadata": {},
   "outputs": [
    {
     "data": {
      "text/plain": [
       "name\n",
       "ali       1.80\n",
       "nasrin    1.65\n",
       "Name: height, dtype: float64"
      ]
     },
     "execution_count": 83,
     "metadata": {},
     "output_type": "execute_result"
    }
   ],
   "source": [
    "df.loc[['ali', 'nasrin'] , 'height']"
   ]
  },
  {
   "cell_type": "code",
   "execution_count": 84,
   "metadata": {},
   "outputs": [
    {
     "data": {
      "text/html": [
       "<div>\n",
       "<style scoped>\n",
       "    .dataframe tbody tr th:only-of-type {\n",
       "        vertical-align: middle;\n",
       "    }\n",
       "\n",
       "    .dataframe tbody tr th {\n",
       "        vertical-align: top;\n",
       "    }\n",
       "\n",
       "    .dataframe thead th {\n",
       "        text-align: right;\n",
       "    }\n",
       "</style>\n",
       "<table border=\"1\" class=\"dataframe\">\n",
       "  <thead>\n",
       "    <tr style=\"text-align: right;\">\n",
       "      <th></th>\n",
       "      <th>weight</th>\n",
       "      <th>height</th>\n",
       "    </tr>\n",
       "    <tr>\n",
       "      <th>name</th>\n",
       "      <th></th>\n",
       "      <th></th>\n",
       "    </tr>\n",
       "  </thead>\n",
       "  <tbody>\n",
       "    <tr>\n",
       "      <th>taghi</th>\n",
       "      <td>100</td>\n",
       "      <td>1.95</td>\n",
       "    </tr>\n",
       "    <tr>\n",
       "      <th>ali</th>\n",
       "      <td>67</td>\n",
       "      <td>1.80</td>\n",
       "    </tr>\n",
       "  </tbody>\n",
       "</table>\n",
       "</div>"
      ],
      "text/plain": [
       "       weight  height\n",
       "name                 \n",
       "taghi     100    1.95\n",
       "ali        67    1.80"
      ]
     },
     "execution_count": 84,
     "metadata": {},
     "output_type": "execute_result"
    }
   ],
   "source": [
    "df.iloc[:2]"
   ]
  },
  {
   "cell_type": "code",
   "execution_count": 85,
   "metadata": {},
   "outputs": [
    {
     "data": {
      "text/html": [
       "<div>\n",
       "<style scoped>\n",
       "    .dataframe tbody tr th:only-of-type {\n",
       "        vertical-align: middle;\n",
       "    }\n",
       "\n",
       "    .dataframe tbody tr th {\n",
       "        vertical-align: top;\n",
       "    }\n",
       "\n",
       "    .dataframe thead th {\n",
       "        text-align: right;\n",
       "    }\n",
       "</style>\n",
       "<table border=\"1\" class=\"dataframe\">\n",
       "  <thead>\n",
       "    <tr style=\"text-align: right;\">\n",
       "      <th></th>\n",
       "      <th>weight</th>\n",
       "      <th>height</th>\n",
       "    </tr>\n",
       "    <tr>\n",
       "      <th>name</th>\n",
       "      <th></th>\n",
       "      <th></th>\n",
       "    </tr>\n",
       "  </thead>\n",
       "  <tbody>\n",
       "    <tr>\n",
       "      <th>ali</th>\n",
       "      <td>67</td>\n",
       "      <td>1.80</td>\n",
       "    </tr>\n",
       "    <tr>\n",
       "      <th>nasrin</th>\n",
       "      <td>85</td>\n",
       "      <td>1.65</td>\n",
       "    </tr>\n",
       "  </tbody>\n",
       "</table>\n",
       "</div>"
      ],
      "text/plain": [
       "        weight  height\n",
       "name                  \n",
       "ali         67    1.80\n",
       "nasrin      85    1.65"
      ]
     },
     "execution_count": 85,
     "metadata": {},
     "output_type": "execute_result"
    }
   ],
   "source": [
    "df.loc[(df.weight <= 90)]"
   ]
  },
  {
   "cell_type": "code",
   "execution_count": 86,
   "metadata": {},
   "outputs": [
    {
     "data": {
      "text/html": [
       "<div>\n",
       "<style scoped>\n",
       "    .dataframe tbody tr th:only-of-type {\n",
       "        vertical-align: middle;\n",
       "    }\n",
       "\n",
       "    .dataframe tbody tr th {\n",
       "        vertical-align: top;\n",
       "    }\n",
       "\n",
       "    .dataframe thead th {\n",
       "        text-align: right;\n",
       "    }\n",
       "</style>\n",
       "<table border=\"1\" class=\"dataframe\">\n",
       "  <thead>\n",
       "    <tr style=\"text-align: right;\">\n",
       "      <th></th>\n",
       "      <th>weight</th>\n",
       "      <th>height</th>\n",
       "    </tr>\n",
       "    <tr>\n",
       "      <th>name</th>\n",
       "      <th></th>\n",
       "      <th></th>\n",
       "    </tr>\n",
       "  </thead>\n",
       "  <tbody>\n",
       "    <tr>\n",
       "      <th>ali</th>\n",
       "      <td>67</td>\n",
       "      <td>1.8</td>\n",
       "    </tr>\n",
       "  </tbody>\n",
       "</table>\n",
       "</div>"
      ],
      "text/plain": [
       "      weight  height\n",
       "name                \n",
       "ali       67     1.8"
      ]
     },
     "execution_count": 86,
     "metadata": {},
     "output_type": "execute_result"
    }
   ],
   "source": [
    "df.loc[(df.weight <= 90) & (df.height >= 1.75)]"
   ]
  },
  {
   "attachments": {},
   "cell_type": "markdown",
   "metadata": {},
   "source": [
    "### Operation On DataFrames"
   ]
  },
  {
   "cell_type": "code",
   "execution_count": 87,
   "metadata": {},
   "outputs": [
    {
     "data": {
      "text/html": [
       "<div>\n",
       "<style scoped>\n",
       "    .dataframe tbody tr th:only-of-type {\n",
       "        vertical-align: middle;\n",
       "    }\n",
       "\n",
       "    .dataframe tbody tr th {\n",
       "        vertical-align: top;\n",
       "    }\n",
       "\n",
       "    .dataframe thead th {\n",
       "        text-align: right;\n",
       "    }\n",
       "</style>\n",
       "<table border=\"1\" class=\"dataframe\">\n",
       "  <thead>\n",
       "    <tr style=\"text-align: right;\">\n",
       "      <th></th>\n",
       "      <th>weight</th>\n",
       "      <th>height</th>\n",
       "      <th>bmi</th>\n",
       "    </tr>\n",
       "    <tr>\n",
       "      <th>name</th>\n",
       "      <th></th>\n",
       "      <th></th>\n",
       "      <th></th>\n",
       "    </tr>\n",
       "  </thead>\n",
       "  <tbody>\n",
       "    <tr>\n",
       "      <th>taghi</th>\n",
       "      <td>100</td>\n",
       "      <td>1.95</td>\n",
       "      <td>26.298488</td>\n",
       "    </tr>\n",
       "    <tr>\n",
       "      <th>ali</th>\n",
       "      <td>67</td>\n",
       "      <td>1.80</td>\n",
       "      <td>20.679012</td>\n",
       "    </tr>\n",
       "    <tr>\n",
       "      <th>nasrin</th>\n",
       "      <td>85</td>\n",
       "      <td>1.65</td>\n",
       "      <td>31.221304</td>\n",
       "    </tr>\n",
       "  </tbody>\n",
       "</table>\n",
       "</div>"
      ],
      "text/plain": [
       "        weight  height        bmi\n",
       "name                             \n",
       "taghi      100    1.95  26.298488\n",
       "ali         67    1.80  20.679012\n",
       "nasrin      85    1.65  31.221304"
      ]
     },
     "execution_count": 87,
     "metadata": {},
     "output_type": "execute_result"
    }
   ],
   "source": [
    "# adding a new column\n",
    "df['bmi'] = df['weight'] / (df['height']**2)\n",
    "df.head()"
   ]
  },
  {
   "cell_type": "code",
   "execution_count": 88,
   "metadata": {},
   "outputs": [
    {
     "data": {
      "text/html": [
       "<div>\n",
       "<style scoped>\n",
       "    .dataframe tbody tr th:only-of-type {\n",
       "        vertical-align: middle;\n",
       "    }\n",
       "\n",
       "    .dataframe tbody tr th {\n",
       "        vertical-align: top;\n",
       "    }\n",
       "\n",
       "    .dataframe thead th {\n",
       "        text-align: right;\n",
       "    }\n",
       "</style>\n",
       "<table border=\"1\" class=\"dataframe\">\n",
       "  <thead>\n",
       "    <tr style=\"text-align: right;\">\n",
       "      <th></th>\n",
       "      <th>weight</th>\n",
       "      <th>height</th>\n",
       "      <th>bmi</th>\n",
       "      <th>healty_bmi</th>\n",
       "    </tr>\n",
       "    <tr>\n",
       "      <th>name</th>\n",
       "      <th></th>\n",
       "      <th></th>\n",
       "      <th></th>\n",
       "      <th></th>\n",
       "    </tr>\n",
       "  </thead>\n",
       "  <tbody>\n",
       "    <tr>\n",
       "      <th>taghi</th>\n",
       "      <td>100</td>\n",
       "      <td>1.95</td>\n",
       "      <td>26.298488</td>\n",
       "      <td>False</td>\n",
       "    </tr>\n",
       "    <tr>\n",
       "      <th>ali</th>\n",
       "      <td>67</td>\n",
       "      <td>1.80</td>\n",
       "      <td>20.679012</td>\n",
       "      <td>True</td>\n",
       "    </tr>\n",
       "    <tr>\n",
       "      <th>nasrin</th>\n",
       "      <td>85</td>\n",
       "      <td>1.65</td>\n",
       "      <td>31.221304</td>\n",
       "      <td>False</td>\n",
       "    </tr>\n",
       "  </tbody>\n",
       "</table>\n",
       "</div>"
      ],
      "text/plain": [
       "        weight  height        bmi  healty_bmi\n",
       "name                                         \n",
       "taghi      100    1.95  26.298488       False\n",
       "ali         67    1.80  20.679012        True\n",
       "nasrin      85    1.65  31.221304       False"
      ]
     },
     "execution_count": 88,
     "metadata": {},
     "output_type": "execute_result"
    }
   ],
   "source": [
    "df['healty_bmi'] = (df['bmi'] <= 25) & (df['bmi'] >= 19)\n",
    "df.head()"
   ]
  },
  {
   "attachments": {},
   "cell_type": "markdown",
   "metadata": {},
   "source": [
    "### Reading From File & Basic Stats"
   ]
  },
  {
   "cell_type": "code",
   "execution_count": 89,
   "metadata": {},
   "outputs": [
    {
     "data": {
      "text/html": [
       "<div>\n",
       "<style scoped>\n",
       "    .dataframe tbody tr th:only-of-type {\n",
       "        vertical-align: middle;\n",
       "    }\n",
       "\n",
       "    .dataframe tbody tr th {\n",
       "        vertical-align: top;\n",
       "    }\n",
       "\n",
       "    .dataframe thead th {\n",
       "        text-align: right;\n",
       "    }\n",
       "</style>\n",
       "<table border=\"1\" class=\"dataframe\">\n",
       "  <thead>\n",
       "    <tr style=\"text-align: right;\">\n",
       "      <th></th>\n",
       "      <th>age</th>\n",
       "      <th>workclass</th>\n",
       "      <th>fnlwgt</th>\n",
       "      <th>education</th>\n",
       "      <th>educational-num</th>\n",
       "      <th>marital-status</th>\n",
       "      <th>occupation</th>\n",
       "      <th>relationship</th>\n",
       "      <th>race</th>\n",
       "      <th>gender</th>\n",
       "      <th>capital-gain</th>\n",
       "      <th>capital-loss</th>\n",
       "      <th>hours-per-week</th>\n",
       "      <th>native-country</th>\n",
       "      <th>income</th>\n",
       "    </tr>\n",
       "  </thead>\n",
       "  <tbody>\n",
       "    <tr>\n",
       "      <th>0</th>\n",
       "      <td>25</td>\n",
       "      <td>Private</td>\n",
       "      <td>226802</td>\n",
       "      <td>11th</td>\n",
       "      <td>7</td>\n",
       "      <td>Never-married</td>\n",
       "      <td>Machine-op-inspct</td>\n",
       "      <td>Own-child</td>\n",
       "      <td>Black</td>\n",
       "      <td>Male</td>\n",
       "      <td>0</td>\n",
       "      <td>0</td>\n",
       "      <td>40</td>\n",
       "      <td>United-States</td>\n",
       "      <td>&lt;=50K</td>\n",
       "    </tr>\n",
       "    <tr>\n",
       "      <th>1</th>\n",
       "      <td>38</td>\n",
       "      <td>Private</td>\n",
       "      <td>89814</td>\n",
       "      <td>HS-grad</td>\n",
       "      <td>9</td>\n",
       "      <td>Married-civ-spouse</td>\n",
       "      <td>Farming-fishing</td>\n",
       "      <td>Husband</td>\n",
       "      <td>White</td>\n",
       "      <td>Male</td>\n",
       "      <td>0</td>\n",
       "      <td>0</td>\n",
       "      <td>50</td>\n",
       "      <td>United-States</td>\n",
       "      <td>&lt;=50K</td>\n",
       "    </tr>\n",
       "    <tr>\n",
       "      <th>2</th>\n",
       "      <td>28</td>\n",
       "      <td>Local-gov</td>\n",
       "      <td>336951</td>\n",
       "      <td>Assoc-acdm</td>\n",
       "      <td>12</td>\n",
       "      <td>Married-civ-spouse</td>\n",
       "      <td>Protective-serv</td>\n",
       "      <td>Husband</td>\n",
       "      <td>White</td>\n",
       "      <td>Male</td>\n",
       "      <td>0</td>\n",
       "      <td>0</td>\n",
       "      <td>40</td>\n",
       "      <td>United-States</td>\n",
       "      <td>&gt;50K</td>\n",
       "    </tr>\n",
       "    <tr>\n",
       "      <th>3</th>\n",
       "      <td>44</td>\n",
       "      <td>Private</td>\n",
       "      <td>160323</td>\n",
       "      <td>Some-college</td>\n",
       "      <td>10</td>\n",
       "      <td>Married-civ-spouse</td>\n",
       "      <td>Machine-op-inspct</td>\n",
       "      <td>Husband</td>\n",
       "      <td>Black</td>\n",
       "      <td>Male</td>\n",
       "      <td>7688</td>\n",
       "      <td>0</td>\n",
       "      <td>40</td>\n",
       "      <td>United-States</td>\n",
       "      <td>&gt;50K</td>\n",
       "    </tr>\n",
       "    <tr>\n",
       "      <th>4</th>\n",
       "      <td>18</td>\n",
       "      <td>?</td>\n",
       "      <td>103497</td>\n",
       "      <td>Some-college</td>\n",
       "      <td>10</td>\n",
       "      <td>Never-married</td>\n",
       "      <td>?</td>\n",
       "      <td>Own-child</td>\n",
       "      <td>White</td>\n",
       "      <td>Female</td>\n",
       "      <td>0</td>\n",
       "      <td>0</td>\n",
       "      <td>30</td>\n",
       "      <td>United-States</td>\n",
       "      <td>&lt;=50K</td>\n",
       "    </tr>\n",
       "    <tr>\n",
       "      <th>...</th>\n",
       "      <td>...</td>\n",
       "      <td>...</td>\n",
       "      <td>...</td>\n",
       "      <td>...</td>\n",
       "      <td>...</td>\n",
       "      <td>...</td>\n",
       "      <td>...</td>\n",
       "      <td>...</td>\n",
       "      <td>...</td>\n",
       "      <td>...</td>\n",
       "      <td>...</td>\n",
       "      <td>...</td>\n",
       "      <td>...</td>\n",
       "      <td>...</td>\n",
       "      <td>...</td>\n",
       "    </tr>\n",
       "    <tr>\n",
       "      <th>48837</th>\n",
       "      <td>27</td>\n",
       "      <td>Private</td>\n",
       "      <td>257302</td>\n",
       "      <td>Assoc-acdm</td>\n",
       "      <td>12</td>\n",
       "      <td>Married-civ-spouse</td>\n",
       "      <td>Tech-support</td>\n",
       "      <td>Wife</td>\n",
       "      <td>White</td>\n",
       "      <td>Female</td>\n",
       "      <td>0</td>\n",
       "      <td>0</td>\n",
       "      <td>38</td>\n",
       "      <td>United-States</td>\n",
       "      <td>&lt;=50K</td>\n",
       "    </tr>\n",
       "    <tr>\n",
       "      <th>48838</th>\n",
       "      <td>40</td>\n",
       "      <td>Private</td>\n",
       "      <td>154374</td>\n",
       "      <td>HS-grad</td>\n",
       "      <td>9</td>\n",
       "      <td>Married-civ-spouse</td>\n",
       "      <td>Machine-op-inspct</td>\n",
       "      <td>Husband</td>\n",
       "      <td>White</td>\n",
       "      <td>Male</td>\n",
       "      <td>0</td>\n",
       "      <td>0</td>\n",
       "      <td>40</td>\n",
       "      <td>United-States</td>\n",
       "      <td>&gt;50K</td>\n",
       "    </tr>\n",
       "    <tr>\n",
       "      <th>48839</th>\n",
       "      <td>58</td>\n",
       "      <td>Private</td>\n",
       "      <td>151910</td>\n",
       "      <td>HS-grad</td>\n",
       "      <td>9</td>\n",
       "      <td>Widowed</td>\n",
       "      <td>Adm-clerical</td>\n",
       "      <td>Unmarried</td>\n",
       "      <td>White</td>\n",
       "      <td>Female</td>\n",
       "      <td>0</td>\n",
       "      <td>0</td>\n",
       "      <td>40</td>\n",
       "      <td>United-States</td>\n",
       "      <td>&lt;=50K</td>\n",
       "    </tr>\n",
       "    <tr>\n",
       "      <th>48840</th>\n",
       "      <td>22</td>\n",
       "      <td>Private</td>\n",
       "      <td>201490</td>\n",
       "      <td>HS-grad</td>\n",
       "      <td>9</td>\n",
       "      <td>Never-married</td>\n",
       "      <td>Adm-clerical</td>\n",
       "      <td>Own-child</td>\n",
       "      <td>White</td>\n",
       "      <td>Male</td>\n",
       "      <td>0</td>\n",
       "      <td>0</td>\n",
       "      <td>20</td>\n",
       "      <td>United-States</td>\n",
       "      <td>&lt;=50K</td>\n",
       "    </tr>\n",
       "    <tr>\n",
       "      <th>48841</th>\n",
       "      <td>52</td>\n",
       "      <td>Self-emp-inc</td>\n",
       "      <td>287927</td>\n",
       "      <td>HS-grad</td>\n",
       "      <td>9</td>\n",
       "      <td>Married-civ-spouse</td>\n",
       "      <td>Exec-managerial</td>\n",
       "      <td>Wife</td>\n",
       "      <td>White</td>\n",
       "      <td>Female</td>\n",
       "      <td>15024</td>\n",
       "      <td>0</td>\n",
       "      <td>40</td>\n",
       "      <td>United-States</td>\n",
       "      <td>&gt;50K</td>\n",
       "    </tr>\n",
       "  </tbody>\n",
       "</table>\n",
       "<p>48842 rows × 15 columns</p>\n",
       "</div>"
      ],
      "text/plain": [
       "       age     workclass  fnlwgt     education  educational-num  \\\n",
       "0       25       Private  226802          11th                7   \n",
       "1       38       Private   89814       HS-grad                9   \n",
       "2       28     Local-gov  336951    Assoc-acdm               12   \n",
       "3       44       Private  160323  Some-college               10   \n",
       "4       18             ?  103497  Some-college               10   \n",
       "...    ...           ...     ...           ...              ...   \n",
       "48837   27       Private  257302    Assoc-acdm               12   \n",
       "48838   40       Private  154374       HS-grad                9   \n",
       "48839   58       Private  151910       HS-grad                9   \n",
       "48840   22       Private  201490       HS-grad                9   \n",
       "48841   52  Self-emp-inc  287927       HS-grad                9   \n",
       "\n",
       "           marital-status         occupation relationship   race  gender  \\\n",
       "0           Never-married  Machine-op-inspct    Own-child  Black    Male   \n",
       "1      Married-civ-spouse    Farming-fishing      Husband  White    Male   \n",
       "2      Married-civ-spouse    Protective-serv      Husband  White    Male   \n",
       "3      Married-civ-spouse  Machine-op-inspct      Husband  Black    Male   \n",
       "4           Never-married                  ?    Own-child  White  Female   \n",
       "...                   ...                ...          ...    ...     ...   \n",
       "48837  Married-civ-spouse       Tech-support         Wife  White  Female   \n",
       "48838  Married-civ-spouse  Machine-op-inspct      Husband  White    Male   \n",
       "48839             Widowed       Adm-clerical    Unmarried  White  Female   \n",
       "48840       Never-married       Adm-clerical    Own-child  White    Male   \n",
       "48841  Married-civ-spouse    Exec-managerial         Wife  White  Female   \n",
       "\n",
       "       capital-gain  capital-loss  hours-per-week native-country income  \n",
       "0                 0             0              40  United-States  <=50K  \n",
       "1                 0             0              50  United-States  <=50K  \n",
       "2                 0             0              40  United-States   >50K  \n",
       "3              7688             0              40  United-States   >50K  \n",
       "4                 0             0              30  United-States  <=50K  \n",
       "...             ...           ...             ...            ...    ...  \n",
       "48837             0             0              38  United-States  <=50K  \n",
       "48838             0             0              40  United-States   >50K  \n",
       "48839             0             0              40  United-States  <=50K  \n",
       "48840             0             0              20  United-States  <=50K  \n",
       "48841         15024             0              40  United-States   >50K  \n",
       "\n",
       "[48842 rows x 15 columns]"
      ]
     },
     "execution_count": 89,
     "metadata": {},
     "output_type": "execute_result"
    }
   ],
   "source": [
    "df = pd.read_csv('datasets/adult.csv')\n",
    "df"
   ]
  },
  {
   "cell_type": "code",
   "execution_count": 90,
   "metadata": {},
   "outputs": [
    {
     "name": "stderr",
     "output_type": "stream",
     "text": [
      "C:\\Users\\shadm\\AppData\\Local\\Temp\\ipykernel_956\\3698961737.py:1: FutureWarning: Dropping of nuisance columns in DataFrame reductions (with 'numeric_only=None') is deprecated; in a future version this will raise TypeError.  Select only valid columns before calling the reduction.\n",
      "  df.mean()\n"
     ]
    },
    {
     "data": {
      "text/plain": [
       "age                    38.643585\n",
       "fnlwgt             189664.134597\n",
       "educational-num        10.078089\n",
       "capital-gain         1079.067626\n",
       "capital-loss           87.502314\n",
       "hours-per-week         40.422382\n",
       "dtype: float64"
      ]
     },
     "execution_count": 90,
     "metadata": {},
     "output_type": "execute_result"
    }
   ],
   "source": [
    "df.mean()"
   ]
  },
  {
   "cell_type": "code",
   "execution_count": 91,
   "metadata": {},
   "outputs": [
    {
     "name": "stderr",
     "output_type": "stream",
     "text": [
      "C:\\Users\\shadm\\AppData\\Local\\Temp\\ipykernel_956\\3890761195.py:1: FutureWarning: Dropping of nuisance columns in DataFrame reductions (with 'numeric_only=None') is deprecated; in a future version this will raise TypeError.  Select only valid columns before calling the reduction.\n",
      "  df.loc[(df.age <= 45)].mean()\n"
     ]
    },
    {
     "data": {
      "text/plain": [
       "age                    31.406117\n",
       "fnlwgt             194153.626042\n",
       "educational-num        10.122719\n",
       "capital-gain          765.496997\n",
       "capital-loss           77.531693\n",
       "hours-per-week         40.393113\n",
       "dtype: float64"
      ]
     },
     "execution_count": 91,
     "metadata": {},
     "output_type": "execute_result"
    }
   ],
   "source": [
    "df.loc[(df.age <= 45)].mean()"
   ]
  },
  {
   "cell_type": "code",
   "execution_count": 92,
   "metadata": {},
   "outputs": [
    {
     "data": {
      "text/plain": [
       "White                 41762\n",
       "Black                  4685\n",
       "Asian-Pac-Islander     1519\n",
       "Amer-Indian-Eskimo      470\n",
       "Other                   406\n",
       "Name: race, dtype: int64"
      ]
     },
     "execution_count": 92,
     "metadata": {},
     "output_type": "execute_result"
    }
   ],
   "source": [
    "df['race'].value_counts()"
   ]
  },
  {
   "attachments": {},
   "cell_type": "markdown",
   "metadata": {},
   "source": [
    "## Matplotlib"
   ]
  },
  {
   "attachments": {},
   "cell_type": "markdown",
   "metadata": {},
   "source": [
    "- Matplotlib is one of the most popular Python packages used for data visualization. It is a cross-platform library for making 2D plots from data in arrays.\n",
    "\n",
    "- installation: `pip install matplotlib`\n",
    "\n",
    "- import the package using `import matplotlib.pyplot as plt`"
   ]
  },
  {
   "cell_type": "code",
   "execution_count": 93,
   "metadata": {},
   "outputs": [
    {
     "data": {
      "image/png": "[encoded data removed]",
      "text/plain": [
       "<Figure size 432x288 with 1 Axes>"
      ]
     },
     "metadata": {
      "needs_background": "light"
     },
     "output_type": "display_data"
    }
   ],
   "source": [
    "import matplotlib.pyplot as plt\n",
    "\n",
    "import seaborn as sns\n",
    "\n",
    "x = [1, 2, 3, 4,5,6]\n",
    "y = [1, 4, 9, 16,25,36]\n",
    "\n",
    "plt.plot(x, y)\n",
    "plt.xlabel('x')\n",
    "plt.ylabel('x^2')\n",
    "plt.title('A Quadratic Curve')\n",
    "plt.show()"
   ]
  },
  {
   "attachments": {},
   "cell_type": "markdown",
   "metadata": {},
   "source": [
    "### Multi-Line Plot"
   ]
  },
  {
   "cell_type": "code",
   "execution_count": 94,
   "metadata": {},
   "outputs": [
    {
     "data": {
      "image/png": "[encoded data removed]",
      "text/plain": [
       "<Figure size 720x432 with 1 Axes>"
      ]
     },
     "metadata": {
      "needs_background": "light"
     },
     "output_type": "display_data"
    }
   ],
   "source": [
    "\n",
    "\n",
    "plt.figure(figsize=(10, 6))\n",
    "x = np.linspace(0, 10, 100)\n",
    "y = np.sin(x)\n",
    "z = np.cos(x)\n",
    "plt.plot(x, y, linewidth=2, c='red', linestyle='--')\n",
    "plt.plot(x, z, linewidth=2, c='blue', linestyle='-')\n",
    "plt.legend(['sin', 'cos'])\n",
    "plt.show()"
   ]
  },
  {
   "attachments": {},
   "cell_type": "markdown",
   "metadata": {},
   "source": [
    "### Bar Plot"
   ]
  },
  {
   "cell_type": "code",
   "execution_count": 95,
   "metadata": {},
   "outputs": [
    {
     "data": {
      "image/png": "[encoded data removed]",
      "text/plain": [
       "<Figure size 864x576 with 1 Axes>"
      ]
     },
     "metadata": {
      "needs_background": "light"
     },
     "output_type": "display_data"
    }
   ],
   "source": [
    "df = pd.read_csv('datasets/adult.csv')\n",
    "counts = df['race'].value_counts()\n",
    "\n",
    "plt.figure(figsize=(12, 8))\n",
    "plt.bar(counts.index, counts.values)\n",
    "plt.xticks(rotation=90)\n",
    "plt.show()"
   ]
  },
  {
   "attachments": {},
   "cell_type": "markdown",
   "metadata": {},
   "source": [
    "### Scatter Plot"
   ]
  },
  {
   "cell_type": "code",
   "execution_count": 96,
   "metadata": {},
   "outputs": [
    {
     "data": {
      "image/png": "[encoded data removed]",
      "text/plain": [
       "<Figure size 720x432 with 2 Axes>"
      ]
     },
     "metadata": {
      "needs_background": "light"
     },
     "output_type": "display_data"
    }
   ],
   "source": [
    "fig, axes = plt.subplots(nrows=2, figsize=(10, 6), constrained_layout=True)\n",
    "\n",
    "x = np.random.normal(0, 1, size=100)\n",
    "y = x + np.random.normal(-2, 0.5, size=100)\n",
    "z = np.random.normal(3, 0.8, size=100) - x\n",
    "\n",
    "plt.sca(axes[0])\n",
    "plt.scatter(x, y, s=40, c='blue')\n",
    "plt.xlabel('x')\n",
    "plt.ylabel('y')\n",
    "plt.title('Positive Correlation')\n",
    "\n",
    "\n",
    "plt.sca(axes[1])\n",
    "plt.scatter(x, z, s=40, c=x<0)\n",
    "plt.xlabel('x')\n",
    "plt.ylabel('z')\n",
    "plt.title('Negative Correlation')\n",
    "\n",
    "plt.show()"
   ]
  },
  {
   "cell_type": "code",
   "execution_count": 97,
   "metadata": {},
   "outputs": [
    {
     "data": {
      "image/png": "[encoded data removed]",
      "text/plain": [
       "<Figure size 432x288 with 1 Axes>"
      ]
     },
     "metadata": {
      "needs_background": "light"
     },
     "output_type": "display_data"
    }
   ],
   "source": [
    "# Bar plot\n",
    "x = ['A', 'B', 'C', 'D']\n",
    "y = [3, 6, 1, 4]\n",
    "\n",
    "plt.bar(x, y)\n",
    "plt.xlabel('Category')\n",
    "plt.ylabel('Value')\n",
    "plt.title('Bar Plot')\n",
    "plt.show()\n",
    "\n"
   ]
  },
  {
   "cell_type": "code",
   "execution_count": 98,
   "metadata": {},
   "outputs": [
    {
     "data": {
      "image/png": "[encoded data removed]",
      "text/plain": [
       "<Figure size 432x288 with 1 Axes>"
      ]
     },
     "metadata": {
      "needs_background": "light"
     },
     "output_type": "display_data"
    }
   ],
   "source": [
    "\n",
    "x = np.random.normal(size=100)\n",
    "y = np.random.normal(size=100)\n",
    "\n",
    "plt.scatter(x, y)\n",
    "plt.show()"
   ]
  },
  {
   "attachments": {},
   "cell_type": "markdown",
   "metadata": {},
   "source": [
    "## Thanks For Reading =)"
   ]
  }
 ],
 "metadata": {
  "kernelspec": {
   "display_name": "Python 3 (ipykernel)",
   "language": "python",
   "name": "python3"
  },
  "language_info": {
   "codemirror_mode": {
    "name": "ipython",
    "version": 3
   },
   "file_extension": ".py",
   "mimetype": "text/x-python",
   "name": "python",
   "nbconvert_exporter": "python",
   "pygments_lexer": "ipython3",
   "version": "3.11.2"
  }
 },
 "nbformat": 4,
 "nbformat_minor": 4
}
